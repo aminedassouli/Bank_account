{
 "cells": [
  {
   "cell_type": "markdown",
   "metadata": {},
   "source": [
    "<font size=10>\n",
    "<center><b> Bank Accounts or Service Complaints </b></center>\n",
    "</font>"
   ]
  },
  {
   "cell_type": "markdown",
   "metadata": {},
   "source": [
    "<font size=\"3\"> \n",
    "<br>The data comes from: https://query.data.world/s/rd2gbtkdfthsaxhlpyvpwhhv2dwsc2 \n",
    "</font>"
   ]
  },
  {
   "cell_type": "markdown",
   "metadata": {},
   "source": [
    "<font size=\"6\">\n",
    "<b>Importations</b>\n",
    "</font>"
   ]
  },
  {
   "cell_type": "code",
   "execution_count": 1,
   "metadata": {},
   "outputs": [],
   "source": [
    "import pandas as pd\n",
    "\n",
    "%matplotlib inline\n",
    "import matplotlib.pyplot as plt"
   ]
  },
  {
   "cell_type": "markdown",
   "metadata": {},
   "source": [
    "<font size=\"6\">\n",
    "<b>Constants</b>\n",
    "</font>"
   ]
  },
  {
   "cell_type": "code",
   "execution_count": 2,
   "metadata": {},
   "outputs": [],
   "source": [
    "PATH_CSV_DATA = \"Bank_Account_or_Service_Complaints.csv\""
   ]
  },
  {
   "cell_type": "markdown",
   "metadata": {},
   "source": [
    "<font size=\"6\">\n",
    "<b>Functions</b>\n",
    "</font>"
   ]
  },
  {
   "cell_type": "code",
   "execution_count": 70,
   "metadata": {},
   "outputs": [],
   "source": [
    "def plot_bar(col_data: pd.Series, number_keep: int = 15, ascending: bool = False, sort_by_index: str = False, x_label: str = None) -> None:\n",
    "    \"\"\"\n",
    "    Plot a bar chart, where the X-Axis contains the unique values of the Series, and the Y-Axis, the number of occurrences.\n",
    "\n",
    "    Parameters\n",
    "    ----------\n",
    "    col_data : pandas Series\n",
    "    number_keep : int, default 15\n",
    "        Limit the number of different values to consider during the plot\n",
    "    ascending : bool, default False\n",
    "        If False, take the most frequent `number_max` column values; otherwise, take the least frequent ones\n",
    "    sort_by_index : bool, False\n",
    "        If True, the figure is sorted by the values\n",
    "    x_label : str\n",
    "        If specified, assign it to the xlabel of the figure (axis of values)\n",
    "    \n",
    "    \"\"\"\n",
    "    # Count the values' frequency, sort them by value and keep only the requested number\n",
    "    data_to_plot = col_data.value_counts(ascending=ascending)\\\n",
    "                           .head(number_keep)\\\n",
    "    \n",
    "    # Sort the result by index if requested\n",
    "    if sort_by_index:\n",
    "        data_to_plot.sort_index(inplace=True)\n",
    "\n",
    "    # Plot the bar\n",
    "    plt.xlabel(x_label, {\"size\": 14})\n",
    "    plt.ylabel(\"Number of occurences\", {\"size\": 14})\n",
    "    plt.bar(data_to_plot.index, data_to_plot.values[:])\n",
    "\n",
    "    return None"
   ]
  },
  {
   "cell_type": "markdown",
   "metadata": {},
   "source": [
    "<font size=\"6\">\n",
    "<b>Core Analysis</b>\n",
    "</font>"
   ]
  },
  {
   "cell_type": "markdown",
   "metadata": {},
   "source": [
    "<font size=\"4\">\n",
    "<b>General look:</b>\n",
    "</font>"
   ]
  },
  {
   "cell_type": "code",
   "execution_count": 10,
   "metadata": {},
   "outputs": [
    {
     "data": {
      "text/html": [
       "<div>\n",
       "<style scoped>\n",
       "    .dataframe tbody tr th:only-of-type {\n",
       "        vertical-align: middle;\n",
       "    }\n",
       "\n",
       "    .dataframe tbody tr th {\n",
       "        vertical-align: top;\n",
       "    }\n",
       "\n",
       "    .dataframe thead th {\n",
       "        text-align: right;\n",
       "    }\n",
       "</style>\n",
       "<table border=\"1\" class=\"dataframe\">\n",
       "  <thead>\n",
       "    <tr style=\"text-align: right;\">\n",
       "      <th></th>\n",
       "      <th>Date received</th>\n",
       "      <th>Product</th>\n",
       "      <th>Sub-product</th>\n",
       "      <th>Issue</th>\n",
       "      <th>Sub-issue</th>\n",
       "      <th>Consumer complaint narrative</th>\n",
       "      <th>Company public response</th>\n",
       "      <th>Company</th>\n",
       "      <th>State</th>\n",
       "      <th>ZIP code</th>\n",
       "      <th>Tags</th>\n",
       "      <th>Consumer consent provided?</th>\n",
       "      <th>Submitted via</th>\n",
       "      <th>Date sent to company</th>\n",
       "      <th>Company response to consumer</th>\n",
       "      <th>Timely response?</th>\n",
       "      <th>Consumer disputed?</th>\n",
       "      <th>Complaint ID</th>\n",
       "    </tr>\n",
       "  </thead>\n",
       "  <tbody>\n",
       "    <tr>\n",
       "      <th>0</th>\n",
       "      <td>07/29/2013</td>\n",
       "      <td>Bank account or service</td>\n",
       "      <td>Checking account</td>\n",
       "      <td>Using a debit or ATM card</td>\n",
       "      <td>NaN</td>\n",
       "      <td>NaN</td>\n",
       "      <td>NaN</td>\n",
       "      <td>Wells Fargo &amp; Company</td>\n",
       "      <td>CA</td>\n",
       "      <td>95992</td>\n",
       "      <td>Older American</td>\n",
       "      <td>NaN</td>\n",
       "      <td>Web</td>\n",
       "      <td>07/31/2013</td>\n",
       "      <td>Closed with explanation</td>\n",
       "      <td>Yes</td>\n",
       "      <td>No</td>\n",
       "      <td>468889</td>\n",
       "    </tr>\n",
       "    <tr>\n",
       "      <th>1</th>\n",
       "      <td>07/29/2013</td>\n",
       "      <td>Bank account or service</td>\n",
       "      <td>Checking account</td>\n",
       "      <td>Account opening, closing, or management</td>\n",
       "      <td>NaN</td>\n",
       "      <td>NaN</td>\n",
       "      <td>NaN</td>\n",
       "      <td>Santander Bank US</td>\n",
       "      <td>NY</td>\n",
       "      <td>10065</td>\n",
       "      <td>NaN</td>\n",
       "      <td>NaN</td>\n",
       "      <td>Fax</td>\n",
       "      <td>07/31/2013</td>\n",
       "      <td>Closed</td>\n",
       "      <td>Yes</td>\n",
       "      <td>No</td>\n",
       "      <td>468879</td>\n",
       "    </tr>\n",
       "    <tr>\n",
       "      <th>2</th>\n",
       "      <td>07/29/2013</td>\n",
       "      <td>Bank account or service</td>\n",
       "      <td>Checking account</td>\n",
       "      <td>Deposits and withdrawals</td>\n",
       "      <td>NaN</td>\n",
       "      <td>NaN</td>\n",
       "      <td>NaN</td>\n",
       "      <td>Wells Fargo &amp; Company</td>\n",
       "      <td>GA</td>\n",
       "      <td>30084</td>\n",
       "      <td>NaN</td>\n",
       "      <td>NaN</td>\n",
       "      <td>Web</td>\n",
       "      <td>07/30/2013</td>\n",
       "      <td>Closed with explanation</td>\n",
       "      <td>Yes</td>\n",
       "      <td>No</td>\n",
       "      <td>468949</td>\n",
       "    </tr>\n",
       "    <tr>\n",
       "      <th>3</th>\n",
       "      <td>07/29/2013</td>\n",
       "      <td>Bank account or service</td>\n",
       "      <td>Checking account</td>\n",
       "      <td>Deposits and withdrawals</td>\n",
       "      <td>NaN</td>\n",
       "      <td>NaN</td>\n",
       "      <td>NaN</td>\n",
       "      <td>Bank of America</td>\n",
       "      <td>TX</td>\n",
       "      <td>75025</td>\n",
       "      <td>NaN</td>\n",
       "      <td>NaN</td>\n",
       "      <td>Web</td>\n",
       "      <td>07/30/2013</td>\n",
       "      <td>Closed with explanation</td>\n",
       "      <td>Yes</td>\n",
       "      <td>No</td>\n",
       "      <td>468981</td>\n",
       "    </tr>\n",
       "    <tr>\n",
       "      <th>4</th>\n",
       "      <td>07/29/2013</td>\n",
       "      <td>Bank account or service</td>\n",
       "      <td>Other bank product/service</td>\n",
       "      <td>Deposits and withdrawals</td>\n",
       "      <td>NaN</td>\n",
       "      <td>NaN</td>\n",
       "      <td>NaN</td>\n",
       "      <td>Wells Fargo &amp; Company</td>\n",
       "      <td>CA</td>\n",
       "      <td>96088</td>\n",
       "      <td>NaN</td>\n",
       "      <td>NaN</td>\n",
       "      <td>Web</td>\n",
       "      <td>08/01/2013</td>\n",
       "      <td>Closed with explanation</td>\n",
       "      <td>Yes</td>\n",
       "      <td>No</td>\n",
       "      <td>469185</td>\n",
       "    </tr>\n",
       "  </tbody>\n",
       "</table>\n",
       "</div>"
      ],
      "text/plain": [
       "  Date received                  Product                 Sub-product  \\\n",
       "0    07/29/2013  Bank account or service            Checking account   \n",
       "1    07/29/2013  Bank account or service            Checking account   \n",
       "2    07/29/2013  Bank account or service            Checking account   \n",
       "3    07/29/2013  Bank account or service            Checking account   \n",
       "4    07/29/2013  Bank account or service  Other bank product/service   \n",
       "\n",
       "                                     Issue  Sub-issue  \\\n",
       "0                Using a debit or ATM card        NaN   \n",
       "1  Account opening, closing, or management        NaN   \n",
       "2                 Deposits and withdrawals        NaN   \n",
       "3                 Deposits and withdrawals        NaN   \n",
       "4                 Deposits and withdrawals        NaN   \n",
       "\n",
       "  Consumer complaint narrative Company public response                Company  \\\n",
       "0                          NaN                     NaN  Wells Fargo & Company   \n",
       "1                          NaN                     NaN      Santander Bank US   \n",
       "2                          NaN                     NaN  Wells Fargo & Company   \n",
       "3                          NaN                     NaN        Bank of America   \n",
       "4                          NaN                     NaN  Wells Fargo & Company   \n",
       "\n",
       "  State ZIP code            Tags Consumer consent provided? Submitted via  \\\n",
       "0    CA    95992  Older American                        NaN           Web   \n",
       "1    NY    10065             NaN                        NaN           Fax   \n",
       "2    GA    30084             NaN                        NaN           Web   \n",
       "3    TX    75025             NaN                        NaN           Web   \n",
       "4    CA    96088             NaN                        NaN           Web   \n",
       "\n",
       "  Date sent to company Company response to consumer Timely response?  \\\n",
       "0           07/31/2013      Closed with explanation              Yes   \n",
       "1           07/31/2013                       Closed              Yes   \n",
       "2           07/30/2013      Closed with explanation              Yes   \n",
       "3           07/30/2013      Closed with explanation              Yes   \n",
       "4           08/01/2013      Closed with explanation              Yes   \n",
       "\n",
       "  Consumer disputed?  Complaint ID  \n",
       "0                 No        468889  \n",
       "1                 No        468879  \n",
       "2                 No        468949  \n",
       "3                 No        468981  \n",
       "4                 No        469185  "
      ]
     },
     "execution_count": 10,
     "metadata": {},
     "output_type": "execute_result"
    }
   ],
   "source": [
    "# Load the data from the csv file into a dataframe\n",
    "df_data = pd.read_csv(PATH_CSV_DATA)\n",
    "\n",
    "# Show the dataframe\n",
    "df_data.head()"
   ]
  },
  {
   "cell_type": "markdown",
   "metadata": {},
   "source": [
    "<font size=\"4\">\n",
    "<b>Shape and data structure:</b>\n",
    "</font>"
   ]
  },
  {
   "cell_type": "code",
   "execution_count": 11,
   "metadata": {},
   "outputs": [
    {
     "name": "stdout",
     "output_type": "stream",
     "text": [
      "- Shape : (84811, 18)\n",
      "\n",
      "- Data types :\n",
      "\n",
      "Date received                    object\n",
      "Product                          object\n",
      "Sub-product                      object\n",
      "Issue                            object\n",
      "Sub-issue                       float64\n",
      "Consumer complaint narrative     object\n",
      "Company public response          object\n",
      "Company                          object\n",
      "State                            object\n",
      "ZIP code                         object\n",
      "Tags                             object\n",
      "Consumer consent provided?       object\n",
      "Submitted via                    object\n",
      "Date sent to company             object\n",
      "Company response to consumer     object\n",
      "Timely response?                 object\n",
      "Consumer disputed?               object\n",
      "Complaint ID                      int64\n",
      "dtype: object\n"
     ]
    }
   ],
   "source": [
    "# Visualize the shape, and the data type of each column\n",
    "print(f\"- Shape : {df_data.shape}\\n\")\n",
    "print(f\"- Data types :\\n\\n{df_data.dtypes}\")"
   ]
  },
  {
   "cell_type": "markdown",
   "metadata": {},
   "source": [
    "<font size=4>\n",
    "<b>Data values:</b>\n",
    "</font>"
   ]
  },
  {
   "cell_type": "markdown",
   "metadata": {},
   "source": [
    "<font size=3>\n",
    "First, let's check if there are any missing data.\n",
    "</font>"
   ]
  },
  {
   "cell_type": "code",
   "execution_count": 12,
   "metadata": {},
   "outputs": [
    {
     "data": {
      "text/plain": [
       "Date received                       0\n",
       "Product                             0\n",
       "Sub-product                         0\n",
       "Issue                               0\n",
       "Sub-issue                       84811\n",
       "Consumer complaint narrative    70951\n",
       "Company public response         61820\n",
       "Company                             0\n",
       "State                            1549\n",
       "ZIP code                         1550\n",
       "Tags                            73179\n",
       "Consumer consent provided?      62439\n",
       "Submitted via                       0\n",
       "Date sent to company                0\n",
       "Company response to consumer        0\n",
       "Timely response?                    0\n",
       "Consumer disputed?               4031\n",
       "Complaint ID                        0\n",
       "dtype: int64"
      ]
     },
     "execution_count": 12,
     "metadata": {},
     "output_type": "execute_result"
    }
   ],
   "source": [
    "df_data.isna().sum()"
   ]
  },
  {
   "cell_type": "markdown",
   "metadata": {},
   "source": [
    "<font size=3>\n",
    "<ul><li> There are many missing values : More than <b>70%</b> of the values are missing from the columns \"Sub-issue\", \"Consumer complaint narrative\", \"Company public response\", \"Tags\" and \"Consumer consent provided?\"<br><br>\n",
    "<li> The number of missing values in the column <b>\"Sub-issue\"</b> equals the total number of rows. Therefore, it is an empty column. </ul> \n",
    "</font>"
   ]
  },
  {
   "cell_type": "markdown",
   "metadata": {},
   "source": [
    "<font size=\"3\"> \n",
    "Let's now take a look at the number of unique values per column.\n",
    "</font>"
   ]
  },
  {
   "cell_type": "code",
   "execution_count": 13,
   "metadata": {},
   "outputs": [
    {
     "data": {
      "text/plain": [
       "Date received                    1864\n",
       "Product                             1\n",
       "Sub-product                         5\n",
       "Issue                               5\n",
       "Sub-issue                           0\n",
       "Consumer complaint narrative    13831\n",
       "Company public response            10\n",
       "Company                           451\n",
       "State                              62\n",
       "ZIP code                        15145\n",
       "Tags                                3\n",
       "Consumer consent provided?          4\n",
       "Submitted via                       6\n",
       "Date sent to company             1712\n",
       "Company response to consumer        8\n",
       "Timely response?                    2\n",
       "Consumer disputed?                  2\n",
       "Complaint ID                    84811\n",
       "dtype: int64"
      ]
     },
     "execution_count": 13,
     "metadata": {},
     "output_type": "execute_result"
    }
   ],
   "source": [
    "df_data.nunique()"
   ]
  },
  {
   "cell_type": "markdown",
   "metadata": {},
   "source": [
    "<font size=\"3\">\n",
    "<ul><li>The column <b>\"Product\"</b> has a unique value, which makes it irrelevant to study. <br><br>\n",
    "<li>There is 0 value in the column <b>\"Sub-issue\"</b>, which confirms that it is empty. <br><br>\n",
    "<li>There is one different <b>\"Complaint ID\"</b> for each row. It is normal because it is a specific ID.</ul>\n",
    "</font>"
   ]
  },
  {
   "cell_type": "markdown",
   "metadata": {},
   "source": [
    "<font size=4>\n",
    "<b>Complaints per state:</b>\n",
    "</font>"
   ]
  },
  {
   "cell_type": "code",
   "execution_count": 49,
   "metadata": {},
   "outputs": [
    {
     "data": {
      "image/png": "[encoded data removed]",
      "text/plain": [
       "<Figure size 1440x720 with 1 Axes>"
      ]
     },
     "metadata": {
      "needs_background": "light"
     },
     "output_type": "display_data"
    }
   ],
   "source": [
    "# Plotting configuration\n",
    "plt.figure(figsize=(20,10))\n",
    "\n",
    "# Plot the bar chart showing the number of complaints per US state\n",
    "_plot_bar(df_data[\"State\"], number_keep=62, x_label=\"State\")"
   ]
  },
  {
   "cell_type": "markdown",
   "metadata": {},
   "source": [
    "<font size=\"3\">\n",
    "The number of complaints is very different from a state to another : \n",
    "<ul><li>The Biggest number of complaints happens to be in California. It is almost 12 000, which corresponds to<b> 14 % </b>of the total number.\n",
    "<li>The complaints of the 7 first states (\"CA\", \"FL\", \"NY\", \"TX\", \"NJ\", \"PA\", \"IL\") represent more than 50% of all the complaints, which is huge since there are 62 states in the dataframe.</ul>\n",
    "</font>"
   ]
  },
  {
   "cell_type": "markdown",
   "metadata": {},
   "source": [
    "<font size=4>\n",
    "<b>Complaints per company:</b>\n",
    "</font>"
   ]
  },
  {
   "cell_type": "code",
   "execution_count": 44,
   "metadata": {},
   "outputs": [
    {
     "data": {
      "image/png": "[encoded data removed]",
      "text/plain": [
       "<Figure size 1152x720 with 1 Axes>"
      ]
     },
     "metadata": {
      "needs_background": "light"
     },
     "output_type": "display_data"
    }
   ],
   "source": [
    "# Figure configuration\n",
    "plt.figure(figsize=(16,10))\n",
    "plt.xticks(rotation=90)\n",
    "\n",
    "# Plot the bar chart showing the number of complaints per company\n",
    "plot_bar(df_data[\"Company\"], number_keep=50, x_label=\"Company\")"
   ]
  },
  {
   "cell_type": "markdown",
   "metadata": {},
   "source": [
    "<font size=\"3\">\n",
    "From the graph above, we can see that the number of complaints is huge within some companies, like \"Bank of America\" or \"Wells Fargo & Company\", where it <b>exceeds 15% of the total (13 000)</b>. On the other hand, there are very few complaints <b>(less than 0,25%)</b> in some other companies like \"First Tennesse Bank\" or \"CIT Bank National Association\".\n",
    "</font>"
   ]
  },
  {
   "cell_type": "markdown",
   "metadata": {},
   "source": [
    "<font size=4>\n",
    "<b>Complaints per Month/Year:</b>\n",
    "</font>"
   ]
  },
  {
   "cell_type": "code",
   "execution_count": 63,
   "metadata": {
    "scrolled": false
   },
   "outputs": [
    {
     "data": {
      "image/png": "[encoded data removed]",
      "text/plain": [
       "<Figure size 1296x504 with 2 Axes>"
      ]
     },
     "metadata": {
      "needs_background": "light"
     },
     "output_type": "display_data"
    }
   ],
   "source": [
    "# Add two columns : Year and Month \n",
    "df_date_received = df_data[\"Date received\"].str.split(\"/\", expand=True)\n",
    "\n",
    "df_data[\"Month\"] = df_date_received[0]\n",
    "df_data[\"Year\"] = df_date_received[2]\n",
    "\n",
    "# Create a figure\n",
    "fig = plt.figure(figsize=(18,7))\n",
    "\n",
    "# Add the 'Month' bar as a first subplot\n",
    "ax1 = fig.add_subplot(1,2,1)\n",
    "plot_bar(df_data[\"Month\"], sort_by_index=True, x_label=\"Month\")\n",
    "\n",
    "# Add the 'Year' bar as a second subplot\n",
    "ax2 = fig.add_subplot(1,2,2)\n",
    "plot_bar(df_data[\"Year\"], sort_by_index=True, x_label=\"Year\")"
   ]
  },
  {
   "cell_type": "markdown",
   "metadata": {},
   "source": [
    "<font size=\"3\">\n",
    "    <ul><li> The complaints are <b>almost equally distributed over the months</b>. Thus, it is not an important parameter.<br><br>\n",
    "    <li> The number of complaints was increasing from a year to another until 2016,and then it decreased drastically in 2017. Is it possible ? There are two possible explanations :\n",
    "        <br>&nbsp;&nbsp;<b>--</b> The Bank performed so well that there was no more things to complain about.\n",
    "        <br>&nbsp;&nbsp;<b>--</b> The data does not cover all the year of 2017.</ul>\n",
    "<br>In order to confirm one of our hypothesis, we need to check the date of last received complaint in our data.       \n",
    "</font>"
   ]
  },
  {
   "cell_type": "code",
   "execution_count": 65,
   "metadata": {
    "scrolled": false
   },
   "outputs": [
    {
     "data": {
      "text/html": [
       "<div>\n",
       "<style scoped>\n",
       "    .dataframe tbody tr th:only-of-type {\n",
       "        vertical-align: middle;\n",
       "    }\n",
       "\n",
       "    .dataframe tbody tr th {\n",
       "        vertical-align: top;\n",
       "    }\n",
       "\n",
       "    .dataframe thead th {\n",
       "        text-align: right;\n",
       "    }\n",
       "</style>\n",
       "<table border=\"1\" class=\"dataframe\">\n",
       "  <thead>\n",
       "    <tr style=\"text-align: right;\">\n",
       "      <th></th>\n",
       "      <th>Date received</th>\n",
       "      <th>Product</th>\n",
       "      <th>Sub-product</th>\n",
       "      <th>Issue</th>\n",
       "      <th>Sub-issue</th>\n",
       "      <th>Consumer complaint narrative</th>\n",
       "      <th>Company public response</th>\n",
       "      <th>Company</th>\n",
       "      <th>State</th>\n",
       "      <th>ZIP code</th>\n",
       "      <th>Tags</th>\n",
       "      <th>Consumer consent provided?</th>\n",
       "      <th>Submitted via</th>\n",
       "      <th>Date sent to company</th>\n",
       "      <th>Company response to consumer</th>\n",
       "      <th>Timely response?</th>\n",
       "      <th>Consumer disputed?</th>\n",
       "      <th>Complaint ID</th>\n",
       "      <th>Month</th>\n",
       "      <th>Year</th>\n",
       "    </tr>\n",
       "  </thead>\n",
       "  <tbody>\n",
       "    <tr>\n",
       "      <th>74665</th>\n",
       "      <td>04/01/2017</td>\n",
       "      <td>Bank account or service</td>\n",
       "      <td>Checking account</td>\n",
       "      <td>Account opening, closing, or management</td>\n",
       "      <td>NaN</td>\n",
       "      <td>NaN</td>\n",
       "      <td>NaN</td>\n",
       "      <td>JPMorgan Chase &amp; Co.</td>\n",
       "      <td>CO</td>\n",
       "      <td>80134</td>\n",
       "      <td>NaN</td>\n",
       "      <td>NaN</td>\n",
       "      <td>Web</td>\n",
       "      <td>04/01/2017</td>\n",
       "      <td>In progress</td>\n",
       "      <td>Yes</td>\n",
       "      <td>NaN</td>\n",
       "      <td>2414594</td>\n",
       "      <td>04</td>\n",
       "      <td>2017</td>\n",
       "    </tr>\n",
       "    <tr>\n",
       "      <th>74680</th>\n",
       "      <td>04/01/2017</td>\n",
       "      <td>Bank account or service</td>\n",
       "      <td>Checking account</td>\n",
       "      <td>Account opening, closing, or management</td>\n",
       "      <td>NaN</td>\n",
       "      <td>After having a checking and joint checking acc...</td>\n",
       "      <td>Company has responded to the consumer and the ...</td>\n",
       "      <td>Wells Fargo &amp; Company</td>\n",
       "      <td>FL</td>\n",
       "      <td>336XX</td>\n",
       "      <td>Older American</td>\n",
       "      <td>Consent provided</td>\n",
       "      <td>Web</td>\n",
       "      <td>04/01/2017</td>\n",
       "      <td>Closed with explanation</td>\n",
       "      <td>Yes</td>\n",
       "      <td>NaN</td>\n",
       "      <td>2414596</td>\n",
       "      <td>04</td>\n",
       "      <td>2017</td>\n",
       "    </tr>\n",
       "  </tbody>\n",
       "</table>\n",
       "</div>"
      ],
      "text/plain": [
       "      Date received                  Product       Sub-product  \\\n",
       "74665    04/01/2017  Bank account or service  Checking account   \n",
       "74680    04/01/2017  Bank account or service  Checking account   \n",
       "\n",
       "                                         Issue  Sub-issue  \\\n",
       "74665  Account opening, closing, or management        NaN   \n",
       "74680  Account opening, closing, or management        NaN   \n",
       "\n",
       "                            Consumer complaint narrative  \\\n",
       "74665                                                NaN   \n",
       "74680  After having a checking and joint checking acc...   \n",
       "\n",
       "                                 Company public response  \\\n",
       "74665                                                NaN   \n",
       "74680  Company has responded to the consumer and the ...   \n",
       "\n",
       "                     Company State ZIP code            Tags  \\\n",
       "74665   JPMorgan Chase & Co.    CO    80134             NaN   \n",
       "74680  Wells Fargo & Company    FL    336XX  Older American   \n",
       "\n",
       "      Consumer consent provided? Submitted via Date sent to company  \\\n",
       "74665                        NaN           Web           04/01/2017   \n",
       "74680           Consent provided           Web           04/01/2017   \n",
       "\n",
       "      Company response to consumer Timely response? Consumer disputed?  \\\n",
       "74665                  In progress              Yes                NaN   \n",
       "74680      Closed with explanation              Yes                NaN   \n",
       "\n",
       "       Complaint ID Month  Year  \n",
       "74665       2414594    04  2017  \n",
       "74680       2414596    04  2017  "
      ]
     },
     "execution_count": 65,
     "metadata": {},
     "output_type": "execute_result"
    }
   ],
   "source": [
    "df_data.sort_values([\"Year\", \"Month\"]).tail(2)"
   ]
  },
  {
   "cell_type": "markdown",
   "metadata": {},
   "source": [
    "<font size=\"3\">\n",
    "    As expected, <b>the data only covers the first four months of the year 2017</b>. Therefore, we cannot make any conclusion regarding the increase or decrease of the number of complaints for the last year.\n",
    "    <br><br>The previous finding makes us wonder as well about the first year (2012), whether it was fully-covered or not.  \n",
    "</font>"
   ]
  },
  {
   "cell_type": "code",
   "execution_count": 69,
   "metadata": {},
   "outputs": [
    {
     "data": {
      "text/html": [
       "<div>\n",
       "<style scoped>\n",
       "    .dataframe tbody tr th:only-of-type {\n",
       "        vertical-align: middle;\n",
       "    }\n",
       "\n",
       "    .dataframe tbody tr th {\n",
       "        vertical-align: top;\n",
       "    }\n",
       "\n",
       "    .dataframe thead th {\n",
       "        text-align: right;\n",
       "    }\n",
       "</style>\n",
       "<table border=\"1\" class=\"dataframe\">\n",
       "  <thead>\n",
       "    <tr style=\"text-align: right;\">\n",
       "      <th></th>\n",
       "      <th>Date received</th>\n",
       "      <th>Product</th>\n",
       "      <th>Sub-product</th>\n",
       "      <th>Issue</th>\n",
       "      <th>Sub-issue</th>\n",
       "      <th>Consumer complaint narrative</th>\n",
       "      <th>Company public response</th>\n",
       "      <th>Company</th>\n",
       "      <th>State</th>\n",
       "      <th>ZIP code</th>\n",
       "      <th>Tags</th>\n",
       "      <th>Consumer consent provided?</th>\n",
       "      <th>Submitted via</th>\n",
       "      <th>Date sent to company</th>\n",
       "      <th>Company response to consumer</th>\n",
       "      <th>Timely response?</th>\n",
       "      <th>Consumer disputed?</th>\n",
       "      <th>Complaint ID</th>\n",
       "      <th>Month</th>\n",
       "      <th>Year</th>\n",
       "    </tr>\n",
       "  </thead>\n",
       "  <tbody>\n",
       "    <tr>\n",
       "      <th>11877</th>\n",
       "      <td>03/12/2012</td>\n",
       "      <td>Bank account or service</td>\n",
       "      <td>Checking account</td>\n",
       "      <td>Deposits and withdrawals</td>\n",
       "      <td>NaN</td>\n",
       "      <td>NaN</td>\n",
       "      <td>NaN</td>\n",
       "      <td>Wells Fargo &amp; Company</td>\n",
       "      <td>CA</td>\n",
       "      <td>92064</td>\n",
       "      <td>NaN</td>\n",
       "      <td>NaN</td>\n",
       "      <td>Referral</td>\n",
       "      <td>03/16/2012</td>\n",
       "      <td>Closed without relief</td>\n",
       "      <td>Yes</td>\n",
       "      <td>No</td>\n",
       "      <td>17504</td>\n",
       "      <td>03</td>\n",
       "      <td>2012</td>\n",
       "    </tr>\n",
       "    <tr>\n",
       "      <th>11882</th>\n",
       "      <td>03/13/2012</td>\n",
       "      <td>Bank account or service</td>\n",
       "      <td>Checking account</td>\n",
       "      <td>Deposits and withdrawals</td>\n",
       "      <td>NaN</td>\n",
       "      <td>NaN</td>\n",
       "      <td>NaN</td>\n",
       "      <td>Capital One</td>\n",
       "      <td>VA</td>\n",
       "      <td>22030</td>\n",
       "      <td>NaN</td>\n",
       "      <td>NaN</td>\n",
       "      <td>Web</td>\n",
       "      <td>03/13/2012</td>\n",
       "      <td>Closed with relief</td>\n",
       "      <td>Yes</td>\n",
       "      <td>No</td>\n",
       "      <td>34223</td>\n",
       "      <td>03</td>\n",
       "      <td>2012</td>\n",
       "    </tr>\n",
       "  </tbody>\n",
       "</table>\n",
       "</div>"
      ],
      "text/plain": [
       "      Date received                  Product       Sub-product  \\\n",
       "11877    03/12/2012  Bank account or service  Checking account   \n",
       "11882    03/13/2012  Bank account or service  Checking account   \n",
       "\n",
       "                          Issue  Sub-issue Consumer complaint narrative  \\\n",
       "11877  Deposits and withdrawals        NaN                          NaN   \n",
       "11882  Deposits and withdrawals        NaN                          NaN   \n",
       "\n",
       "      Company public response                Company State ZIP code Tags  \\\n",
       "11877                     NaN  Wells Fargo & Company    CA    92064  NaN   \n",
       "11882                     NaN            Capital One    VA    22030  NaN   \n",
       "\n",
       "      Consumer consent provided? Submitted via Date sent to company  \\\n",
       "11877                        NaN      Referral           03/16/2012   \n",
       "11882                        NaN           Web           03/13/2012   \n",
       "\n",
       "      Company response to consumer Timely response? Consumer disputed?  \\\n",
       "11877        Closed without relief              Yes                 No   \n",
       "11882           Closed with relief              Yes                 No   \n",
       "\n",
       "       Complaint ID Month  Year  \n",
       "11877         17504    03  2012  \n",
       "11882         34223    03  2012  "
      ]
     },
     "execution_count": 69,
     "metadata": {},
     "output_type": "execute_result"
    }
   ],
   "source": [
    "# Get the 2 oldest complaints from the dataframe\n",
    "df_data.sort_values([\"Year\", \"Month\"]).head(2)"
   ]
  },
  {
   "cell_type": "markdown",
   "metadata": {},
   "source": [
    "<font size=\"3\">\n",
    "    The <b>first complaint received was on March 2012</b>, which means that the data for the two first months is missing. Therefore, since we don't have enough information, it is even possible that the number of complaints was higher in 2012 than in 2013.\n",
    "</font>"
   ]
  }
 ],
 "metadata": {
  "kernelspec": {
   "display_name": "Python 2",
   "language": "python",
   "name": "python2"
  },
  "language_info": {
   "codemirror_mode": {
    "name": "ipython",
    "version": 3
   },
   "file_extension": ".py",
   "mimetype": "text/x-python",
   "name": "python",
   "nbconvert_exporter": "python",
   "pygments_lexer": "ipython3",
   "version": "3.7.6"
  }
 },
 "nbformat": 4,
 "nbformat_minor": 2
}
