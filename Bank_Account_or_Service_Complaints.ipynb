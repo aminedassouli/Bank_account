{
 "cells": [
  {
   "cell_type": "markdown",
   "metadata": {},
   "source": [
    "# <center> Bank Accounts or Service Complaints </center>"
   ]
  },
  {
   "cell_type": "markdown",
   "metadata": {},
   "source": [
    "<font size=\"3\"> The data is from : https://query.data.world/s/rd2gbtkdfthsaxhlpyvpwhhv2dwsc2 </font>"
   ]
  },
  {
   "cell_type": "markdown",
   "metadata": {},
   "source": [
    "## Importations"
   ]
  },
  {
   "cell_type": "code",
   "execution_count": 4,
   "metadata": {},
   "outputs": [],
   "source": [
    "import pandas as pd\n"
   ]
  },
  {
   "cell_type": "markdown",
   "metadata": {},
   "source": [
    "## Constants"
   ]
  },
  {
   "cell_type": "code",
   "execution_count": 5,
   "metadata": {},
   "outputs": [],
   "source": [
    "PATH_CSV_DATA = \"Bank_Account_or_Service_Complaints.csv\""
   ]
  },
  {
   "cell_type": "markdown",
   "metadata": {},
   "source": [
    "## Data visualization"
   ]
  },
  {
   "cell_type": "code",
   "execution_count": 6,
   "metadata": {
    "scrolled": false
   },
   "outputs": [
    {
     "data": {
      "text/html": [
       "<div>\n",
       "<style scoped>\n",
       "    .dataframe tbody tr th:only-of-type {\n",
       "        vertical-align: middle;\n",
       "    }\n",
       "\n",
       "    .dataframe tbody tr th {\n",
       "        vertical-align: top;\n",
       "    }\n",
       "\n",
       "    .dataframe thead th {\n",
       "        text-align: right;\n",
       "    }\n",
       "</style>\n",
       "<table border=\"1\" class=\"dataframe\">\n",
       "  <thead>\n",
       "    <tr style=\"text-align: right;\">\n",
       "      <th></th>\n",
       "      <th>Date received</th>\n",
       "      <th>Product</th>\n",
       "      <th>Sub-product</th>\n",
       "      <th>Issue</th>\n",
       "      <th>Sub-issue</th>\n",
       "      <th>Consumer complaint narrative</th>\n",
       "      <th>Company public response</th>\n",
       "      <th>Company</th>\n",
       "      <th>State</th>\n",
       "      <th>ZIP code</th>\n",
       "      <th>Tags</th>\n",
       "      <th>Consumer consent provided?</th>\n",
       "      <th>Submitted via</th>\n",
       "      <th>Date sent to company</th>\n",
       "      <th>Company response to consumer</th>\n",
       "      <th>Timely response?</th>\n",
       "      <th>Consumer disputed?</th>\n",
       "      <th>Complaint ID</th>\n",
       "    </tr>\n",
       "  </thead>\n",
       "  <tbody>\n",
       "    <tr>\n",
       "      <th>0</th>\n",
       "      <td>07/29/2013</td>\n",
       "      <td>Bank account or service</td>\n",
       "      <td>Checking account</td>\n",
       "      <td>Using a debit or ATM card</td>\n",
       "      <td>NaN</td>\n",
       "      <td>NaN</td>\n",
       "      <td>NaN</td>\n",
       "      <td>Wells Fargo &amp; Company</td>\n",
       "      <td>CA</td>\n",
       "      <td>95992</td>\n",
       "      <td>Older American</td>\n",
       "      <td>NaN</td>\n",
       "      <td>Web</td>\n",
       "      <td>07/31/2013</td>\n",
       "      <td>Closed with explanation</td>\n",
       "      <td>Yes</td>\n",
       "      <td>No</td>\n",
       "      <td>468889</td>\n",
       "    </tr>\n",
       "    <tr>\n",
       "      <th>1</th>\n",
       "      <td>07/29/2013</td>\n",
       "      <td>Bank account or service</td>\n",
       "      <td>Checking account</td>\n",
       "      <td>Account opening, closing, or management</td>\n",
       "      <td>NaN</td>\n",
       "      <td>NaN</td>\n",
       "      <td>NaN</td>\n",
       "      <td>Santander Bank US</td>\n",
       "      <td>NY</td>\n",
       "      <td>10065</td>\n",
       "      <td>NaN</td>\n",
       "      <td>NaN</td>\n",
       "      <td>Fax</td>\n",
       "      <td>07/31/2013</td>\n",
       "      <td>Closed</td>\n",
       "      <td>Yes</td>\n",
       "      <td>No</td>\n",
       "      <td>468879</td>\n",
       "    </tr>\n",
       "    <tr>\n",
       "      <th>2</th>\n",
       "      <td>07/29/2013</td>\n",
       "      <td>Bank account or service</td>\n",
       "      <td>Checking account</td>\n",
       "      <td>Deposits and withdrawals</td>\n",
       "      <td>NaN</td>\n",
       "      <td>NaN</td>\n",
       "      <td>NaN</td>\n",
       "      <td>Wells Fargo &amp; Company</td>\n",
       "      <td>GA</td>\n",
       "      <td>30084</td>\n",
       "      <td>NaN</td>\n",
       "      <td>NaN</td>\n",
       "      <td>Web</td>\n",
       "      <td>07/30/2013</td>\n",
       "      <td>Closed with explanation</td>\n",
       "      <td>Yes</td>\n",
       "      <td>No</td>\n",
       "      <td>468949</td>\n",
       "    </tr>\n",
       "    <tr>\n",
       "      <th>3</th>\n",
       "      <td>07/29/2013</td>\n",
       "      <td>Bank account or service</td>\n",
       "      <td>Checking account</td>\n",
       "      <td>Deposits and withdrawals</td>\n",
       "      <td>NaN</td>\n",
       "      <td>NaN</td>\n",
       "      <td>NaN</td>\n",
       "      <td>Bank of America</td>\n",
       "      <td>TX</td>\n",
       "      <td>75025</td>\n",
       "      <td>NaN</td>\n",
       "      <td>NaN</td>\n",
       "      <td>Web</td>\n",
       "      <td>07/30/2013</td>\n",
       "      <td>Closed with explanation</td>\n",
       "      <td>Yes</td>\n",
       "      <td>No</td>\n",
       "      <td>468981</td>\n",
       "    </tr>\n",
       "    <tr>\n",
       "      <th>4</th>\n",
       "      <td>07/29/2013</td>\n",
       "      <td>Bank account or service</td>\n",
       "      <td>Other bank product/service</td>\n",
       "      <td>Deposits and withdrawals</td>\n",
       "      <td>NaN</td>\n",
       "      <td>NaN</td>\n",
       "      <td>NaN</td>\n",
       "      <td>Wells Fargo &amp; Company</td>\n",
       "      <td>CA</td>\n",
       "      <td>96088</td>\n",
       "      <td>NaN</td>\n",
       "      <td>NaN</td>\n",
       "      <td>Web</td>\n",
       "      <td>08/01/2013</td>\n",
       "      <td>Closed with explanation</td>\n",
       "      <td>Yes</td>\n",
       "      <td>No</td>\n",
       "      <td>469185</td>\n",
       "    </tr>\n",
       "  </tbody>\n",
       "</table>\n",
       "</div>"
      ],
      "text/plain": [
       "  Date received                  Product                 Sub-product  \\\n",
       "0    07/29/2013  Bank account or service            Checking account   \n",
       "1    07/29/2013  Bank account or service            Checking account   \n",
       "2    07/29/2013  Bank account or service            Checking account   \n",
       "3    07/29/2013  Bank account or service            Checking account   \n",
       "4    07/29/2013  Bank account or service  Other bank product/service   \n",
       "\n",
       "                                     Issue  Sub-issue  \\\n",
       "0                Using a debit or ATM card        NaN   \n",
       "1  Account opening, closing, or management        NaN   \n",
       "2                 Deposits and withdrawals        NaN   \n",
       "3                 Deposits and withdrawals        NaN   \n",
       "4                 Deposits and withdrawals        NaN   \n",
       "\n",
       "  Consumer complaint narrative Company public response                Company  \\\n",
       "0                          NaN                     NaN  Wells Fargo & Company   \n",
       "1                          NaN                     NaN      Santander Bank US   \n",
       "2                          NaN                     NaN  Wells Fargo & Company   \n",
       "3                          NaN                     NaN        Bank of America   \n",
       "4                          NaN                     NaN  Wells Fargo & Company   \n",
       "\n",
       "  State ZIP code            Tags Consumer consent provided? Submitted via  \\\n",
       "0    CA    95992  Older American                        NaN           Web   \n",
       "1    NY    10065             NaN                        NaN           Fax   \n",
       "2    GA    30084             NaN                        NaN           Web   \n",
       "3    TX    75025             NaN                        NaN           Web   \n",
       "4    CA    96088             NaN                        NaN           Web   \n",
       "\n",
       "  Date sent to company Company response to consumer Timely response?  \\\n",
       "0           07/31/2013      Closed with explanation              Yes   \n",
       "1           07/31/2013                       Closed              Yes   \n",
       "2           07/30/2013      Closed with explanation              Yes   \n",
       "3           07/30/2013      Closed with explanation              Yes   \n",
       "4           08/01/2013      Closed with explanation              Yes   \n",
       "\n",
       "  Consumer disputed?  Complaint ID  \n",
       "0                 No        468889  \n",
       "1                 No        468879  \n",
       "2                 No        468949  \n",
       "3                 No        468981  \n",
       "4                 No        469185  "
      ]
     },
     "execution_count": 6,
     "metadata": {},
     "output_type": "execute_result"
    }
   ],
   "source": [
    "# Loading data \n",
    "df_data = pd.read_csv(PATH_CSV_DATA)\n",
    "\n",
    "# View the dataframe\n",
    "df_data.head()"
   ]
  },
  {
   "cell_type": "markdown",
   "metadata": {},
   "source": [
    "### Basic information"
   ]
  },
  {
   "cell_type": "code",
   "execution_count": 7,
   "metadata": {
    "scrolled": false
   },
   "outputs": [
    {
     "name": "stdout",
     "output_type": "stream",
     "text": [
      "- Data shape : (84811, 18)\n",
      "\n",
      "- Keys :\n",
      "\n",
      "Date received                    object\n",
      "Product                          object\n",
      "Sub-product                      object\n",
      "Issue                            object\n",
      "Sub-issue                       float64\n",
      "Consumer complaint narrative     object\n",
      "Company public response          object\n",
      "Company                          object\n",
      "State                            object\n",
      "ZIP code                         object\n",
      "Tags                             object\n",
      "Consumer consent provided?       object\n",
      "Submitted via                    object\n",
      "Date sent to company             object\n",
      "Company response to consumer     object\n",
      "Timely response?                 object\n",
      "Consumer disputed?               object\n",
      "Complaint ID                      int64\n",
      "dtype: object\n"
     ]
    }
   ],
   "source": [
    "# Visualize basic information about the data\n",
    "print(f\"- Data shape : {df_data.shape}\\n\")\n",
    "print(f\"- Keys :\\n\\n{df_data.dtypes}\")"
   ]
  },
  {
   "cell_type": "markdown",
   "metadata": {},
   "source": [
    "### Missing data"
   ]
  },
  {
   "cell_type": "code",
   "execution_count": 20,
   "metadata": {
    "scrolled": true
   },
   "outputs": [
    {
     "data": {
      "text/plain": [
       "Date received                   False\n",
       "Product                         False\n",
       "Sub-product                     False\n",
       "Issue                           False\n",
       "Sub-issue                        True\n",
       "Consumer complaint narrative     True\n",
       "Company public response          True\n",
       "Company                         False\n",
       "State                            True\n",
       "ZIP code                         True\n",
       "Tags                             True\n",
       "Consumer consent provided?       True\n",
       "Submitted via                   False\n",
       "Date sent to company            False\n",
       "Company response to consumer    False\n",
       "Timely response?                False\n",
       "Consumer disputed?               True\n",
       "Complaint ID                    False\n",
       "dtype: bool"
      ]
     },
     "execution_count": 20,
     "metadata": {},
     "output_type": "execute_result"
    }
   ],
   "source": [
    "# Check if there is any missing data \n",
    "df_data.isna().any()"
   ]
  },
  {
   "cell_type": "markdown",
   "metadata": {},
   "source": [
    "<font size=\"3\"> ==> There is some missing data (the cells whose value is True). </font>"
   ]
  },
  {
   "cell_type": "code",
   "execution_count": 21,
   "metadata": {},
   "outputs": [
    {
     "data": {
      "text/plain": [
       "Date received                   False\n",
       "Product                         False\n",
       "Sub-product                     False\n",
       "Issue                           False\n",
       "Sub-issue                        True\n",
       "Consumer complaint narrative    False\n",
       "Company public response         False\n",
       "Company                         False\n",
       "State                           False\n",
       "ZIP code                        False\n",
       "Tags                            False\n",
       "Consumer consent provided?      False\n",
       "Submitted via                   False\n",
       "Date sent to company            False\n",
       "Company response to consumer    False\n",
       "Timely response?                False\n",
       "Consumer disputed?              False\n",
       "Complaint ID                    False\n",
       "dtype: bool"
      ]
     },
     "execution_count": 21,
     "metadata": {},
     "output_type": "execute_result"
    }
   ],
   "source": [
    "# Check if there is an empty column \n",
    "df_data.isna().all()"
   ]
  },
  {
   "cell_type": "markdown",
   "metadata": {},
   "source": [
    "<font size=\"3\"> ==> All the cells corresponding to <b>\"Sub-issue\"</b> are not specified, which makes it an irrelevant column. </font>"
   ]
  },
  {
   "cell_type": "markdown",
   "metadata": {},
   "source": [
    "### Products"
   ]
  },
  {
   "cell_type": "code",
   "execution_count": 19,
   "metadata": {
    "scrolled": true
   },
   "outputs": [
    {
     "data": {
      "text/html": [
       "<div>\n",
       "<style scoped>\n",
       "    .dataframe tbody tr th:only-of-type {\n",
       "        vertical-align: middle;\n",
       "    }\n",
       "\n",
       "    .dataframe tbody tr th {\n",
       "        vertical-align: top;\n",
       "    }\n",
       "\n",
       "    .dataframe thead th {\n",
       "        text-align: right;\n",
       "    }\n",
       "</style>\n",
       "<table border=\"1\" class=\"dataframe\">\n",
       "  <thead>\n",
       "    <tr style=\"text-align: right;\">\n",
       "      <th></th>\n",
       "      <th>Product</th>\n",
       "      <th>Sub-product</th>\n",
       "      <th>Issue</th>\n",
       "    </tr>\n",
       "  </thead>\n",
       "  <tbody>\n",
       "    <tr>\n",
       "      <th>0</th>\n",
       "      <td>Bank account or service</td>\n",
       "      <td>Checking account</td>\n",
       "      <td>Using a debit or ATM card</td>\n",
       "    </tr>\n",
       "    <tr>\n",
       "      <th>1</th>\n",
       "      <td>Bank account or service</td>\n",
       "      <td>Checking account</td>\n",
       "      <td>Account opening, closing, or management</td>\n",
       "    </tr>\n",
       "    <tr>\n",
       "      <th>2</th>\n",
       "      <td>Bank account or service</td>\n",
       "      <td>Checking account</td>\n",
       "      <td>Deposits and withdrawals</td>\n",
       "    </tr>\n",
       "    <tr>\n",
       "      <th>3</th>\n",
       "      <td>Bank account or service</td>\n",
       "      <td>Other bank product/service</td>\n",
       "      <td>Deposits and withdrawals</td>\n",
       "    </tr>\n",
       "    <tr>\n",
       "      <th>4</th>\n",
       "      <td>Bank account or service</td>\n",
       "      <td>(CD) Certificate of deposit</td>\n",
       "      <td>Account opening, closing, or management</td>\n",
       "    </tr>\n",
       "    <tr>\n",
       "      <th>5</th>\n",
       "      <td>Bank account or service</td>\n",
       "      <td>Checking account</td>\n",
       "      <td>Problems caused by my funds being low</td>\n",
       "    </tr>\n",
       "    <tr>\n",
       "      <th>6</th>\n",
       "      <td>Bank account or service</td>\n",
       "      <td>Other bank product/service</td>\n",
       "      <td>Problems caused by my funds being low</td>\n",
       "    </tr>\n",
       "    <tr>\n",
       "      <th>7</th>\n",
       "      <td>Bank account or service</td>\n",
       "      <td>Savings account</td>\n",
       "      <td>Deposits and withdrawals</td>\n",
       "    </tr>\n",
       "    <tr>\n",
       "      <th>8</th>\n",
       "      <td>Bank account or service</td>\n",
       "      <td>Savings account</td>\n",
       "      <td>Account opening, closing, or management</td>\n",
       "    </tr>\n",
       "    <tr>\n",
       "      <th>9</th>\n",
       "      <td>Bank account or service</td>\n",
       "      <td>Other bank product/service</td>\n",
       "      <td>Using a debit or ATM card</td>\n",
       "    </tr>\n",
       "    <tr>\n",
       "      <th>10</th>\n",
       "      <td>Bank account or service</td>\n",
       "      <td>Checking account</td>\n",
       "      <td>Making/receiving payments, sending money</td>\n",
       "    </tr>\n",
       "    <tr>\n",
       "      <th>11</th>\n",
       "      <td>Bank account or service</td>\n",
       "      <td>Other bank product/service</td>\n",
       "      <td>Making/receiving payments, sending money</td>\n",
       "    </tr>\n",
       "    <tr>\n",
       "      <th>12</th>\n",
       "      <td>Bank account or service</td>\n",
       "      <td>Savings account</td>\n",
       "      <td>Making/receiving payments, sending money</td>\n",
       "    </tr>\n",
       "    <tr>\n",
       "      <th>13</th>\n",
       "      <td>Bank account or service</td>\n",
       "      <td>Other bank product/service</td>\n",
       "      <td>Account opening, closing, or management</td>\n",
       "    </tr>\n",
       "    <tr>\n",
       "      <th>14</th>\n",
       "      <td>Bank account or service</td>\n",
       "      <td>(CD) Certificate of deposit</td>\n",
       "      <td>Deposits and withdrawals</td>\n",
       "    </tr>\n",
       "    <tr>\n",
       "      <th>15</th>\n",
       "      <td>Bank account or service</td>\n",
       "      <td>Cashing a check without an account</td>\n",
       "      <td>Account opening, closing, or management</td>\n",
       "    </tr>\n",
       "    <tr>\n",
       "      <th>16</th>\n",
       "      <td>Bank account or service</td>\n",
       "      <td>Cashing a check without an account</td>\n",
       "      <td>Deposits and withdrawals</td>\n",
       "    </tr>\n",
       "    <tr>\n",
       "      <th>17</th>\n",
       "      <td>Bank account or service</td>\n",
       "      <td>Savings account</td>\n",
       "      <td>Using a debit or ATM card</td>\n",
       "    </tr>\n",
       "    <tr>\n",
       "      <th>18</th>\n",
       "      <td>Bank account or service</td>\n",
       "      <td>Savings account</td>\n",
       "      <td>Problems caused by my funds being low</td>\n",
       "    </tr>\n",
       "    <tr>\n",
       "      <th>19</th>\n",
       "      <td>Bank account or service</td>\n",
       "      <td>(CD) Certificate of deposit</td>\n",
       "      <td>Making/receiving payments, sending money</td>\n",
       "    </tr>\n",
       "    <tr>\n",
       "      <th>20</th>\n",
       "      <td>Bank account or service</td>\n",
       "      <td>Cashing a check without an account</td>\n",
       "      <td>Making/receiving payments, sending money</td>\n",
       "    </tr>\n",
       "    <tr>\n",
       "      <th>21</th>\n",
       "      <td>Bank account or service</td>\n",
       "      <td>Cashing a check without an account</td>\n",
       "      <td>Using a debit or ATM card</td>\n",
       "    </tr>\n",
       "    <tr>\n",
       "      <th>22</th>\n",
       "      <td>Bank account or service</td>\n",
       "      <td>(CD) Certificate of deposit</td>\n",
       "      <td>Problems caused by my funds being low</td>\n",
       "    </tr>\n",
       "    <tr>\n",
       "      <th>23</th>\n",
       "      <td>Bank account or service</td>\n",
       "      <td>Cashing a check without an account</td>\n",
       "      <td>Problems caused by my funds being low</td>\n",
       "    </tr>\n",
       "    <tr>\n",
       "      <th>24</th>\n",
       "      <td>Bank account or service</td>\n",
       "      <td>(CD) Certificate of deposit</td>\n",
       "      <td>Using a debit or ATM card</td>\n",
       "    </tr>\n",
       "  </tbody>\n",
       "</table>\n",
       "</div>"
      ],
      "text/plain": [
       "                    Product                         Sub-product  \\\n",
       "0   Bank account or service                    Checking account   \n",
       "1   Bank account or service                    Checking account   \n",
       "2   Bank account or service                    Checking account   \n",
       "3   Bank account or service          Other bank product/service   \n",
       "4   Bank account or service         (CD) Certificate of deposit   \n",
       "5   Bank account or service                    Checking account   \n",
       "6   Bank account or service          Other bank product/service   \n",
       "7   Bank account or service                     Savings account   \n",
       "8   Bank account or service                     Savings account   \n",
       "9   Bank account or service          Other bank product/service   \n",
       "10  Bank account or service                    Checking account   \n",
       "11  Bank account or service          Other bank product/service   \n",
       "12  Bank account or service                     Savings account   \n",
       "13  Bank account or service          Other bank product/service   \n",
       "14  Bank account or service         (CD) Certificate of deposit   \n",
       "15  Bank account or service  Cashing a check without an account   \n",
       "16  Bank account or service  Cashing a check without an account   \n",
       "17  Bank account or service                     Savings account   \n",
       "18  Bank account or service                     Savings account   \n",
       "19  Bank account or service         (CD) Certificate of deposit   \n",
       "20  Bank account or service  Cashing a check without an account   \n",
       "21  Bank account or service  Cashing a check without an account   \n",
       "22  Bank account or service         (CD) Certificate of deposit   \n",
       "23  Bank account or service  Cashing a check without an account   \n",
       "24  Bank account or service         (CD) Certificate of deposit   \n",
       "\n",
       "                                       Issue  \n",
       "0                  Using a debit or ATM card  \n",
       "1    Account opening, closing, or management  \n",
       "2                   Deposits and withdrawals  \n",
       "3                   Deposits and withdrawals  \n",
       "4    Account opening, closing, or management  \n",
       "5      Problems caused by my funds being low  \n",
       "6      Problems caused by my funds being low  \n",
       "7                   Deposits and withdrawals  \n",
       "8    Account opening, closing, or management  \n",
       "9                  Using a debit or ATM card  \n",
       "10  Making/receiving payments, sending money  \n",
       "11  Making/receiving payments, sending money  \n",
       "12  Making/receiving payments, sending money  \n",
       "13   Account opening, closing, or management  \n",
       "14                  Deposits and withdrawals  \n",
       "15   Account opening, closing, or management  \n",
       "16                  Deposits and withdrawals  \n",
       "17                 Using a debit or ATM card  \n",
       "18     Problems caused by my funds being low  \n",
       "19  Making/receiving payments, sending money  \n",
       "20  Making/receiving payments, sending money  \n",
       "21                 Using a debit or ATM card  \n",
       "22     Problems caused by my funds being low  \n",
       "23     Problems caused by my funds being low  \n",
       "24                 Using a debit or ATM card  "
      ]
     },
     "execution_count": 19,
     "metadata": {},
     "output_type": "execute_result"
    }
   ],
   "source": [
    "df_data[[\"Product\", \"Sub-product\", \"Issue\"]].drop_duplicates()\\\n",
    "                                   .reset_index(drop=True)"
   ]
  },
  {
   "cell_type": "code",
   "execution_count": 23,
   "metadata": {},
   "outputs": [
    {
     "data": {
      "text/plain": [
       "Date received                    1864\n",
       "Product                             1\n",
       "Sub-product                         5\n",
       "Issue                               5\n",
       "Sub-issue                           0\n",
       "Consumer complaint narrative    13831\n",
       "Company public response            10\n",
       "Company                           451\n",
       "State                              62\n",
       "ZIP code                        15145\n",
       "Tags                                3\n",
       "Consumer consent provided?          4\n",
       "Submitted via                       6\n",
       "Date sent to company             1712\n",
       "Company response to consumer        8\n",
       "Timely response?                    2\n",
       "Consumer disputed?                  2\n",
       "Complaint ID                    84811\n",
       "dtype: int64"
      ]
     },
     "execution_count": 23,
     "metadata": {},
     "output_type": "execute_result"
    }
   ],
   "source": [
    "df_data.nunique()"
   ]
  },
  {
   "cell_type": "code",
   "execution_count": 22,
   "metadata": {},
   "outputs": [
    {
     "data": {
      "text/plain": [
       "array(['Wells Fargo & Company', 'Santander Bank US', 'Bank of America',\n",
       "       'JPMorgan Chase & Co.', 'First Tennessee Bank',\n",
       "       \"People's United Bank\", 'TD Bank US Holding Company',\n",
       "       'Synchrony Financial', 'BB&T Financial', 'U.S. Bancorp',\n",
       "       'Regions Financial Corporation', 'PayPal Holdings, Inc.',\n",
       "       'BBVA Compass', 'TCF National Bank', 'Navy FCU', 'Citibank',\n",
       "       'Ally Financial Inc.', 'Pentagon FCU',\n",
       "       'HSBC North America Holdings Inc.',\n",
       "       'Citizens Financial Group, Inc.', 'SunTrust Banks, Inc.',\n",
       "       'PNC Bank N.A.', 'BMO Harris', 'M&T Bank Corporation',\n",
       "       'Receivables Performance Management LLC', 'FirstMerit Bank',\n",
       "       'Fifth Third Financial Corporation',\n",
       "       'The Huntington National Bank', 'Union Bank', 'Capital One',\n",
       "       'Bank of the West', 'BankUnited', 'Morgan Stanley', 'BNY Mellon',\n",
       "       'First American Mitigators, PLLC.', 'Astoria Bank',\n",
       "       'New York Community Bank', 'Comerica',\n",
       "       'GC Services Limited Partnership', 'USAA Savings',\n",
       "       'Fidelity National Information Services, Inc. (FNIS)', 'UBS Bank',\n",
       "       'Resurgent Capital Services L.P.', 'First National Bank of Omaha',\n",
       "       'Deutsche Bank', 'Quicken Loans', 'Discover',\n",
       "       'Nationstar Mortgage', 'Community Choice Financial, Inc.',\n",
       "       'PennyMac Loan Services, LLC', 'Commerce Bank', 'E*Trade Bank',\n",
       "       'The Western Union Company', 'Amex', 'State Farm Bank',\n",
       "       'Banco Popular de Puerto Rico', 'Valley National Bank',\n",
       "       'Immediate Credit Recovery', 'Flagstar Bank', 'Frost Bank',\n",
       "       'Ford Motor Credit Company', 'UMB Bank',\n",
       "       'Western Portfolio Assets', 'Vital Solutions, Inc.',\n",
       "       'Associated Bank', 'Select Portfolio Servicing, Inc', 'FirstBank',\n",
       "       'East West Bank', 'Expert Global Solutions, Inc.',\n",
       "       'Medical Society Business Services, Inc.',\n",
       "       'OneMain Financial Holdings, LLC', 'Encore Capital Group',\n",
       "       'Webster Bank', 'First Hawaiian Bank',\n",
       "       'Third Federal Savings & Loan', 'Bank of Hawaii',\n",
       "       'Ditech Financial LLC', 'Revenue Recovery Corporation',\n",
       "       'Washington Federal', 'Ocwen', 'Whitney Bank', 'Barclays PLC',\n",
       "       'DFC Global Corp', 'Charles Schwab Bank', 'Synovus Bank',\n",
       "       'Banco Popular North America', 'Arvest Bank',\n",
       "       'ONLINE Information Services, Inc.', 'CashCall, Inc.',\n",
       "       'Zions Bancorporation', 'Pulte Mortgage', 'BOK Financial Corp',\n",
       "       'CIT Bank National Association', 'Google Inc.', 'MIB Group, Inc.',\n",
       "       'LexisNexis', 'Alliance Financial Resources, LLC',\n",
       "       'AllianceOne Recievables Management',\n",
       "       'Express Recovery Services, Inc.',\n",
       "       'Bonneville Billing and Collections',\n",
       "       'Portfolio Recovery Associates, Inc.',\n",
       "       'Main Street Personal Finance', 'First Data Corporation',\n",
       "       'Sterling Jewelers Inc.',\n",
       "       'Commercial Credit Counseling Services Inc.', 'CoreLogic',\n",
       "       'Mercedes-Benz Financial Services',\n",
       "       'Receivables Management Corporation', 'Investors Bank',\n",
       "       'Sterling Infosystems, Inc.', 'ATG Credit, LLC', 'Grant & Weber',\n",
       "       'First Advantage Corporation', 'Factual Data',\n",
       "       'TransUnion Intermediate Holdings, Inc.', 'Equifax',\n",
       "       'Northland Group, Inc.', 'GM Financial',\n",
       "       \"State Employee's Credit Union\", 'Clayton Holdings LLC', 'ERC',\n",
       "       'HireRight Solutions, Inc.', 'Early Warning Services, LLC',\n",
       "       'Delbert Services', \"Boeing Employees' Credit Union\",\n",
       "       'BMW Financial Services', 'Santander Consumer USA Holdings Inc',\n",
       "       'Banco Santander Puerto Rico', 'Enova International, Inc.',\n",
       "       'Jim Bottin Enterprises, Inc', 'Xoom',\n",
       "       'American Financial Network, Inc.', 'EverBank',\n",
       "       'National Credit Systems,Inc.', 'Specialized Loan Servicing LLC',\n",
       "       'Echelon Financial, Inc.', 'Southern Management Systems Inc.',\n",
       "       'Ceannate', 'The CMI Group, Inc.', 'First Credit Services Inc.',\n",
       "       'First Republic Bank', 'Security Finance',\n",
       "       'Professional Finance Company, Inc.',\n",
       "       'Southwest Credit Systems, L.P.', 'IBERIABANK',\n",
       "       'Meridian Financial Services, Inc.',\n",
       "       'World Acceptance Corporation', 'Castle & Cooke Mortgage',\n",
       "       'Umpqua Holdings Corporation', 'Experian',\n",
       "       'Harley-Davidson Financial Services, Inc.',\n",
       "       'Trustmark Corporation', 'MNE Services, Inc', 'Mobiloans, LLC',\n",
       "       'GreenSky Trade Credit, LLC', 'City National Bank',\n",
       "       'Goldman Sachs Bank USA', 'State Street Bank',\n",
       "       'Residential Credit Solutions', 'Prosperity Bancshares, Inc',\n",
       "       'Signature Bank (NY)', 'The Northern Trust Company',\n",
       "       'Associated Credit Services, Inc.',\n",
       "       'Dynamic Recovery Solutions, LLC',\n",
       "       'NetSpend Corporation,  a TSYS Company',\n",
       "       'World Recovery Service, LLC', 'BancorpSouth Bank',\n",
       "       'Apple Financial Holdings, Inc', 'Rabobank',\n",
       "       'American Honda Finance Corporation', 'SKO Brenner American, Inc.',\n",
       "       'ACE Cash Express Inc.', 'Global Client Solutions',\n",
       "       'RJM Acquisitions LLC (Closed)',\n",
       "       'Equity National Title and Closing Services, Inc.',\n",
       "       'Heartland Payment Systems',\n",
       "       'Eastern Account Systems of Connecticut, Inc.', 'OCC',\n",
       "       'Monterey Financial Services, Inc.', 'CIS Direct Lending',\n",
       "       'FirstBank of Puerto Rico', 'First National Bank of Pennsylvania',\n",
       "       'Scottrade Bank', 'Credit Plus Inc', 'Bliksum, LLC',\n",
       "       'SVB Financial Group', 'Brock & Scott, PLLC',\n",
       "       'Blackhawk Network Holdings Inc.',\n",
       "       'Prestige Financial Services, Inc.', 'Alegria Auto Sales',\n",
       "       'Seterus, Inc.', 'Tesani Management Inc',\n",
       "       'SERVICELINK LOSS MITIGATION SERVICES', 'Servis One, Inc.',\n",
       "       'MoneyGram', 'Oportun Financial Corporation',\n",
       "       'Law Office of Michael J. Scott, PC',\n",
       "       'Continental Finance Company, LLC', 'Shellpoint Partners, LLC',\n",
       "       'Old National Bank', 'Affiliates Management Company',\n",
       "       'Convergent Resources, Inc.', 'Empowerment Ventures, LLC',\n",
       "       'First Marblehead Education Resources',\n",
       "       'Account Recovery Specialists, Inc.', 'Machol & Johannes, LLC',\n",
       "       'VW Credit, Inc', 'Blackhawk Finance',\n",
       "       'Nationwide Biweekly Administration, Inc',\n",
       "       'Raymond James Bank, N. A.', 'Cathay Bank', 'MB Financial, INC',\n",
       "       'KeyCorp', 'Bank of China USA', 'Chemical Financial Corporation',\n",
       "       'Lending Club Corporation', 'RFNA, LP', 'Openonline, LLC',\n",
       "       'Xerox State & Local Solutions, Inc.', 'Clarity Services',\n",
       "       'ACS Education Services', 'Round Point Mortgage',\n",
       "       'CNG Financial Corporation', 'Dovenmuehle Mortgage Inc.',\n",
       "       'Allied Fidelity Services, LLC',\n",
       "       'First American Financial Corporation', 'Speedy Cash Holdings',\n",
       "       'Dynamic Recovery Services, Inc.', 'MFP, inc.',\n",
       "       'I.C. System, Inc.', 'CarMax, Inc.', 'Contract Callers, Inc.',\n",
       "       'Fulton Friedman & Gullace LLP', 'DriveTime',\n",
       "       'Cavalry Investments, LLC', 'Trident Asset Management, L.L.C.',\n",
       "       'Enhanced Acquisitions, LLC',\n",
       "       'Nissan Motor Acceptance Corporation',\n",
       "       'Toyota Motor Credit Corporation', 'Forster & Garbus LLP',\n",
       "       'Ria Financial', 'West Bay Acquisitions, LLC',\n",
       "       'Reverse Mortgage Solutions', 'Optio Solutions, LLC',\n",
       "       'United Guaranty', 'The PrivateBank and Trust Company',\n",
       "       'Kirkland Asset Management LLC', 'Diverse Financial Enterprises',\n",
       "       'Financial Credit Service, Inc.', 'Alorica Inc.',\n",
       "       'RHF Commercial Capital, LLC', 'Pressler & Pressler, LLP',\n",
       "       'Asta Funding, Inc', 'Allied Interstate LLC', 'AES/PHEAA',\n",
       "       'Credit Card Receivables Fund Incorporated', 'CrossCheck, Inc.',\n",
       "       'Southern Star Automotive Inc.',\n",
       "       'Global Payments Check Services, Inc.', 'Cogent Road, Inc.',\n",
       "       'Consumer Portfolio Services', 'SquareTwo Financial Corporation',\n",
       "       'Worth Finance Corporation', 'Remitly, Inc.',\n",
       "       'First National Collection Bureau, Inc.', 'PACIFIC WESTERN BANK',\n",
       "       'Sallie Mae', 'Westlake Services, LLC', 'Stern & Stern. P.C.',\n",
       "       'Nations Holding Company', 'Fay Servicing, LLC',\n",
       "       'Credit Acceptance Corporation', 'Regional Management Corp.',\n",
       "       'Automatic Data Processing, Inc.',\n",
       "       'Carrington Mortgage Holdings, LLC.',\n",
       "       'Northeast Collection Bureau', 'CL Holdings, LLC', 'PHH Mortgage',\n",
       "       'Western Alliance Bancorporation',\n",
       "       'SchoolsFirst Federal Credit Union', 'Colony Brands, Inc.',\n",
       "       'Veros Credit, LLC', 'Midwest Recovery Systems',\n",
       "       'First Citizens BancShares, Inc.', 'Troy Capital, LLC',\n",
       "       'Prosper Marketplace, Inc.', 'Manhattan Beach Venture, LLC',\n",
       "       'FDIC', 'NorthStar Technologies', 'ECMC Group, Inc.',\n",
       "       'Consumer Financial Services',\n",
       "       'Army and Air Force Exchange Service', 'Genworth Financial',\n",
       "       'Risecredit, LLC', 'N.A.R., Inc.', 'Tidewater Finance Company',\n",
       "       'Medical Business Bureau', 'Unique Management Services, Inc',\n",
       "       'Money Transfer Systems, Inc.', 'Tenet HealthCare Corporation',\n",
       "       'Platinum Holdings Group, LLC', 'Focused Recovery Solutions, Inc.',\n",
       "       'Collectech Diversified, Inc.', 'Hyundai Capital America',\n",
       "       'Bayview Loan Servicing, LLC', 'Home Financing Center',\n",
       "       'Receivables Management Partners, LLC', 'ResidentCollect, Inc.',\n",
       "       'Stillman Law Office', 'Paramount Recovery Systems, L.P.',\n",
       "       'Williams & Fudge, Inc', 'Caine & Weiner Co. Inc.',\n",
       "       'Penn Credit Corporation', 'MST Financial Services, L.L.C.',\n",
       "       'The Best Service Co.,Inc', 'Capital Management Services, LP',\n",
       "       'Strategic Alliances, Inc.', 'Condor Capital Corp.',\n",
       "       'MidCountry Financial Corp.', 'American Financial Resources, Inc.',\n",
       "       'First Financial Services, Inc.', 'Trans-Fast Remittance LLC',\n",
       "       'J J Marshall & Associates, Inc', 'Planet Home Lending, LLC',\n",
       "       'Social Finance, Inc.', 'Russell W Richardson, Attorney at Law',\n",
       "       'Cumulus Funding LLC', 'Caliber Home Loans, Inc',\n",
       "       '1st Franklin Financial Corporation', 'Loan Care',\n",
       "       'Automobile Acceptance Corporation',\n",
       "       'Deca Financial Services LLC (Closed)', 'Tammac Holdings',\n",
       "       'Alliance Data Card Services', 'Premium Credit Bureau',\n",
       "       'Coast Professional, Inc.', 'American Internet Mortgage, Inc',\n",
       "       'Media Collections, Inc', 'Liberty Holdings, LLC',\n",
       "       'Network Capital Funding Corporation',\n",
       "       'Primary Financial Services L.L.C.',\n",
       "       'Pinnacle Credit Services, LLC', 'GCFS, Inc.',\n",
       "       'Windham Professionals', 'ConServe',\n",
       "       'Capital Alliance Financial, LLC', 'CCS Financial Services, Inc.',\n",
       "       'CHS, Inc.', 'Aargon Agency, Inc.', 'Recovery Partners, LLC',\n",
       "       'California Business Bureau, Inc.', 'Innovis',\n",
       "       'Southern Management Corp', 'Duvera Billing Services, LLC',\n",
       "       'Servatus Corporation', 'R.M. Galicia, Inc.',\n",
       "       'National Credit Adjusters, LLC', 'Sunrise Credit Services Inc.',\n",
       "       'SCA Collections, Inc.', 'ARM WNY LLC', 'Exeter Finance Corp',\n",
       "       'Helm Associates', \"Dyck-O'Neal, Inc.\",\n",
       "       'Primary Residential Mortgage', 'Check into Cash, Inc.',\n",
       "       'RSH & Associates, LLC', 'Monarch Recovery Holdings, Inc.',\n",
       "       'The Star Financial', 'Solidus Group LLC.',\n",
       "       'Credit Systems International, Inc.', 'Hello Digit, Inc',\n",
       "       'AmeriNational Community Services', 'Marlette Funding, LLC',\n",
       "       'JPay Inc.', 'Diversified Consultants, Inc.',\n",
       "       'Credit Technologies, Inc.', 'Fidelity National Financial, Inc',\n",
       "       'First Community Mortgage, Inc.', 'Special Financing Company, LLC',\n",
       "       'The CBE Group, Inc.', 'Polaris Home Funding Corp',\n",
       "       'Amsher Collection Services, Inc.', 'Transworld Systems Inc.',\n",
       "       'OpenRoad Lending', 'TDF Financial Services, Inc',\n",
       "       'Altisource Portfolio Solutions, S.à r.l.',\n",
       "       'First Midwest Bancorp, Inc.', 'Collection Bureau Incorporated',\n",
       "       'Southeast Mortgage of Georgia, Inc.', 'City Worth Mortgage LLC',\n",
       "       'CARD Corporation', 'Golden 1 Credit Union',\n",
       "       'Western-Shamrock Corporation', 'Patenaude & Felix APC',\n",
       "       'Great Lakes', 'Bridgecrest Acceptance Corporation', 'Amerisave',\n",
       "       'Ingo Money, Inc.', 'NELSON AND KENNARD',\n",
       "       'Great Western Bancorp, Inc.', 'Incomm Holdings, Inc.',\n",
       "       'The McCue Mortgage Company', 'Data Check of America LLC',\n",
       "       'Prepaid Ventures, LTD', 'Residential Home Funding Corp',\n",
       "       'CommonBond, Inc.', 'Preferred Credit, Inc.',\n",
       "       'Fairway Independent Mortgage Corporation', 'Coinbase, Inc.',\n",
       "       'United Debt Holdings, LLC', 'FactorTrust, Inc.',\n",
       "       'Skrill USA, Inc.', 'AmeriHome Mortgage Company, LLC',\n",
       "       'American Title Corp', 'Arbor Residential Mortgage LLC',\n",
       "       'CarFinance Capital LLC', 'New American Funding',\n",
       "       'Mariner Finance, LLC', 'Argon Credit', 'Navient Solutions, LLC.',\n",
       "       \"Conn's, Inc.\", 'Halsted Financial Services, LLC.',\n",
       "       'BFS Capital Inc.', 'Omni Financial Group, Inc',\n",
       "       'U.S. Auto Credit Corporation', 'Freedom Mortgage',\n",
       "       'MidFirst Bank', 'URS Holding, LLC', 'Federal Reserve',\n",
       "       'HIGHLAND FINANCIAL SERVICES (Closed)',\n",
       "       'Frederick J. Hanna & Associates, P.C. (closed)',\n",
       "       'Movement Mortgage', 'Linear Title & Closing, Ltd',\n",
       "       'Miller, Stark, Klein and Associates', 'First Niagara Bank',\n",
       "       'Prime Mortgage Lending, Inc.', 'Global Tel*Link Corporation',\n",
       "       'Pacific Union Financial, LLC', 'Semper Home Loans, Inc.',\n",
       "       'Atlanticus Services Corporation',\n",
       "       'Concorde Land Title Services, Inc.', 'Acquired Assets, Ltd.',\n",
       "       'Allied Credit Consultants', 'Porsche Financial Services, Inc.',\n",
       "       'TruHome Solutions, LLC', 'Fedloan Help',\n",
       "       'Residential Ttitle & Escrow Co',\n",
       "       'Lendmark Financial Services, LLC', 'NCC Business Services, Inc.',\n",
       "       'Neighborhood Assistance Corporation of America (\"NACA\")',\n",
       "       'Bremer Bank, National Association'], dtype=object)"
      ]
     },
     "execution_count": 22,
     "metadata": {},
     "output_type": "execute_result"
    }
   ],
   "source": [
    "df_data."
   ]
  },
  {
   "cell_type": "markdown",
   "metadata": {},
   "source": [
    "### Data balancing"
   ]
  },
  {
   "cell_type": "markdown",
   "metadata": {},
   "source": [
    "<font size=\"3\"> Let's look at the data and check if there is any imbalance </font>\n"
   ]
  },
  {
   "cell_type": "code",
   "execution_count": 28,
   "metadata": {
    "scrolled": true
   },
   "outputs": [
    {
     "name": "stdout",
     "output_type": "stream",
     "text": [
      "Number of people who exited : 2037 | Percentage : 20.37 %\n",
      "Number of people who stayed : 7963 | Percentage : 79.63 %\n"
     ]
    }
   ],
   "source": [
    "# Calculate the number of clients who exited the bank\n",
    "num_samples = df_data.shape[0]\n",
    "classes = pd.value_counts(df_data[\"Exited\"])\n",
    "\n",
    "print(f\"Number of people who exited : {classes[1]} | Percentage : {100 * classes[1] / num_samples} %\")\n",
    "print(f\"Number of people who stayed : {classes[0]} | Percentage : {100 * classes[0] / num_samples} %\")"
   ]
  },
  {
   "cell_type": "code",
   "execution_count": 30,
   "metadata": {},
   "outputs": [
    {
     "data": {
      "image/png": "[encoded data removed]",
      "text/plain": [
       "<Figure size 432x288 with 1 Axes>"
      ]
     },
     "metadata": {},
     "output_type": "display_data"
    }
   ],
   "source": [
    "# Simple plot of the two classes\n",
    "labels = [\"Stayed\",\"Left\"]\n",
    "plt.style.use('ggplot')\n",
    "classes.plot(kind = 'bar', rot=0)\n",
    "plt.title(\"Transaction class distribution\", {\"fontsize\" : 14})\n",
    "plt.xticks(range(2), labels)\n",
    "plt.xlabel(\"Class of people\")\n",
    "plt.ylabel(\"Frequency\")\n",
    "plt.show()"
   ]
  },
  {
   "cell_type": "markdown",
   "metadata": {},
   "source": [
    "<font size='3'> ==> 20 % | 80 % ratio can have an impact on the performance. Thus, we will probably have to resample. </font>"
   ]
  },
  {
   "cell_type": "markdown",
   "metadata": {},
   "source": [
    "## Data Preprocessing"
   ]
  },
  {
   "cell_type": "code",
   "execution_count": 5,
   "metadata": {},
   "outputs": [],
   "source": [
    "\"\"\" Importations\"\"\"\n",
    "import numpy as np\n",
    "from sklearn.preprocessing import LabelEncoder, OneHotEncoder, StandardScaler\n",
    "from sklearn.model_selection import train_test_split"
   ]
  },
  {
   "cell_type": "markdown",
   "metadata": {},
   "source": [
    "<font size=\"3\"> First let's drop the features that might not be useful for the prediction ( <b> \"RowNumber\", \"CustomerId\", \"Surname\" </b>). We can still trace back to the customer using the rownumber.\n",
    "Then let's split the data into features (categorical and continuous ones) and the label that we want to predict <b> \"Exited\"</b> apart.</font>"
   ]
  },
  {
   "cell_type": "code",
   "execution_count": 6,
   "metadata": {
    "scrolled": false
   },
   "outputs": [
    {
     "name": "stdout",
     "output_type": "stream",
     "text": [
      "[['France' 'Female' 1 1]\n",
      " ['Spain' 'Female' 0 1]\n",
      " ['France' 'Female' 1 0]\n",
      " ...\n",
      " ['France' 'Female' 0 1]\n",
      " ['Germany' 'Male' 1 0]\n",
      " ['France' 'Female' 1 0]]\n"
     ]
    }
   ],
   "source": [
    "Categorical_X = np.concatenate([data.values[:,4:6],data.values[:,10:12]],axis=1) \n",
    "# Geography, Gender, HasCrCard and IsActiveMember\n",
    "print(Categorical_X)"
   ]
  },
  {
   "cell_type": "code",
   "execution_count": 7,
   "metadata": {
    "scrolled": true
   },
   "outputs": [
    {
     "name": "stdout",
     "output_type": "stream",
     "text": [
      "[[619 42 2 0.0 1 101348.88]\n",
      " [608 41 1 83807.86 1 112542.58]\n",
      " [502 42 8 159660.8 3 113931.57]\n",
      " ...\n",
      " [709 36 7 0.0 1 42085.58]\n",
      " [772 42 3 75075.31 2 92888.52]\n",
      " [792 28 4 130142.79 1 38190.78]]\n"
     ]
    }
   ],
   "source": [
    "Continuous_X = np.concatenate([data.values[:,3:4],data.values[:,6:10],data.values[:,12:13]],axis=1)\n",
    "# CreditScore, Age, Tenure, Balance, NumOfProducts, EstimatedSalary\n",
    "print(Continuous_X)"
   ]
  },
  {
   "cell_type": "code",
   "execution_count": 8,
   "metadata": {},
   "outputs": [
    {
     "name": "stdout",
     "output_type": "stream",
     "text": [
      "[1 0 1 ... 1 1 0]\n"
     ]
    }
   ],
   "source": [
    "Y = data.values[:,-1]\n",
    "# Exited \n",
    "print(Y)"
   ]
  },
  {
   "cell_type": "markdown",
   "metadata": {},
   "source": [
    "## <font size=\"3\"> Encoding Categorical data :</font>"
   ]
  },
  {
   "cell_type": "markdown",
   "metadata": {},
   "source": [
    "<font size=\"3\"> We need to encode \"Geography\" and \"Gender\" </font>"
   ]
  },
  {
   "cell_type": "code",
   "execution_count": 9,
   "metadata": {
    "scrolled": true
   },
   "outputs": [
    {
     "name": "stdout",
     "output_type": "stream",
     "text": [
      "['France' 'Germany' 'Spain']\n",
      "['Female' 'Male']\n"
     ]
    }
   ],
   "source": [
    "print(np.unique(data['Geography']))\n",
    "print(np.unique(data['Gender']))"
   ]
  },
  {
   "cell_type": "markdown",
   "metadata": {},
   "source": [
    "<font size=\"3\"> \"Gender\" can take 2 values, we can use a label encoder for it. However, \"Geography\" can take three values (0,1 or 2), it's better to use a hot encoder then in order not to have any impact on the model. </font>"
   ]
  },
  {
   "cell_type": "code",
   "execution_count": 10,
   "metadata": {
    "scrolled": false
   },
   "outputs": [
    {
     "name": "stdout",
     "output_type": "stream",
     "text": [
      "[[1.0 0.0 0.0 0 1 1]\n",
      " [0.0 0.0 1.0 0 0 1]\n",
      " [1.0 0.0 0.0 0 1 0]\n",
      " [1.0 0.0 0.0 0 0 0]\n",
      " [0.0 0.0 1.0 0 1 1]\n",
      " [0.0 0.0 1.0 1 1 0]\n",
      " [1.0 0.0 0.0 1 1 1]\n",
      " [0.0 1.0 0.0 0 1 0]\n",
      " [1.0 0.0 0.0 1 0 1]\n",
      " [1.0 0.0 0.0 1 1 1]]\n"
     ]
    }
   ],
   "source": [
    "#Label Encode Gender\n",
    "labelencoder_X = LabelEncoder()\n",
    "Categorical_X[:, 1] = labelencoder_X.fit_transform(Categorical_X[:, 1])\n",
    "\n",
    "#Label Encode Geography\n",
    "onehotencoder = OneHotEncoder()\n",
    "Geography_encoded = onehotencoder.fit_transform(Categorical_X[:,:1]).toarray()\n",
    "\n",
    "Categorical_X = np.concatenate((Geography_encoded, Categorical_X[:, 1:]), axis = 1)\n",
    "print(Categorical_X[:10,])"
   ]
  },
  {
   "cell_type": "markdown",
   "metadata": {},
   "source": [
    "- <font size=\"3\">  <b>\"Gender\"</b> has been encoded so that '0' corresponds to 'Female' and '1' corresponds to 'Male'.\n",
    "    \n",
    "    \n",
    "- <font size=\"3\"> <b>\"Geography\"</b> has been encoded so that '1 0 0' corresponds to 'France', '0 0 1' corresponds to 'Spain' and '0 1 0' corresponds to 'Germany'. The third column for \"Geography\" encoding is additional, we can drop it.\n",
    "</font>"
   ]
  },
  {
   "cell_type": "code",
   "execution_count": 11,
   "metadata": {},
   "outputs": [
    {
     "name": "stdout",
     "output_type": "stream",
     "text": [
      "[[1.0 0.0 0 1 1]\n",
      " [0.0 0.0 0 0 1]\n",
      " [1.0 0.0 0 1 0]\n",
      " [1.0 0.0 0 0 0]\n",
      " [0.0 0.0 0 1 1]\n",
      " [0.0 0.0 1 1 0]\n",
      " [1.0 0.0 1 1 1]\n",
      " [0.0 1.0 0 1 0]\n",
      " [1.0 0.0 1 0 1]\n",
      " [1.0 0.0 1 1 1]]\n"
     ]
    }
   ],
   "source": [
    "# Remove third column\n",
    "Categorical_X = np.concatenate([Categorical_X[:,0:2],Categorical_X[:,3:]],axis=1)\n",
    "print(Categorical_X[:10,])"
   ]
  },
  {
   "cell_type": "markdown",
   "metadata": {},
   "source": [
    "## <font size=\"3\"> Encoding Continuous data :</font>"
   ]
  },
  {
   "cell_type": "markdown",
   "metadata": {},
   "source": [
    "<font size=\"3\"> Let's scale the data </font>"
   ]
  },
  {
   "cell_type": "code",
   "execution_count": 12,
   "metadata": {},
   "outputs": [
    {
     "name": "stdout",
     "output_type": "stream",
     "text": [
      "[[-0.32622142  0.29351742 -1.04175968 -1.22584767 -0.91158349  0.02188649]\n",
      " [-0.44003595  0.19816383 -1.38753759  0.11735002 -0.91158349  0.21653375]\n",
      " [-1.53679418  0.29351742  1.03290776  1.33305335  2.52705662  0.2406869 ]\n",
      " [ 0.50152063  0.00745665 -1.38753759 -1.22584767  0.80773656 -0.10891792]\n",
      " [ 2.06388377  0.38887101 -1.04175968  0.7857279  -0.91158349 -0.36527578]\n",
      " [-0.05720525  0.4842246   1.03290776  0.59732859  0.80773656  0.86365029]\n",
      " [ 1.77417405  1.05634615  0.68712986 -1.22584767  0.80773656 -1.56548722]\n",
      " [-2.84048792 -0.94607926 -0.35020386  0.61801895  4.24637668  0.33485373]\n",
      " [-1.54714096  0.4842246  -0.35020386  1.05082029  0.80773656 -0.43732885]\n",
      " [ 0.346319   -1.13678644 -1.04175968  0.93146336 -0.91158349 -0.49323048]]\n"
     ]
    }
   ],
   "source": [
    "scaler = StandardScaler()\n",
    "scaled_X  = scaler.fit_transform(Continuous_X)\n",
    "print(scaled_X[:10,])"
   ]
  },
  {
   "cell_type": "markdown",
   "metadata": {},
   "source": [
    "## <font size=\"3\"> Regrouping the data :</font>"
   ]
  },
  {
   "cell_type": "code",
   "execution_count": 13,
   "metadata": {},
   "outputs": [
    {
     "name": "stdout",
     "output_type": "stream",
     "text": [
      "[[1.0 0.0 0 1 1 -0.3262214220367463 0.2935174228967471\n",
      "  -1.0417596792253108 -1.2258476714090278 -0.9115834940401767\n",
      "  0.021886493995386117]\n",
      " [0.0 0.0 0 0 1 -0.4400359548576657 0.1981638321954454\n",
      "  -1.3875375865624426 0.11735002143511059 -0.9115834940401767\n",
      "  0.21653375188734025]\n",
      " [1.0 0.0 0 1 0 -1.536794180222889 0.2935174228967471 1.03290776479748\n",
      "  1.3330533457228904 2.52705661927622 0.24068690006348814]\n",
      " [1.0 0.0 0 0 0 0.5015206348426676 0.0074566507928420294\n",
      "  -1.3875375865624426 -1.2258476714090278 0.8077365626180215\n",
      "  -0.10891791702847127]\n",
      " [0.0 0.0 0 1 1 2.063883767202561 0.38887101359804876 -1.0417596792253108\n",
      "  0.7857278997960591 -0.9115834940401767 -0.36527578251440274]]\n"
     ]
    }
   ],
   "source": [
    "X = np.concatenate([Categorical_X, scaled_X],axis=1)\n",
    "print(X[:5,:])"
   ]
  },
  {
   "cell_type": "markdown",
   "metadata": {},
   "source": [
    "## <font size=\"3\"> Splitting the dataset into training and testing sets :</font>"
   ]
  },
  {
   "cell_type": "code",
   "execution_count": 14,
   "metadata": {},
   "outputs": [],
   "source": [
    "X_train, X_test, y_train, y_test = train_test_split(X, Y, test_size = 0.25, random_state = 0)"
   ]
  },
  {
   "cell_type": "code",
   "execution_count": 15,
   "metadata": {},
   "outputs": [
    {
     "name": "stdout",
     "output_type": "stream",
     "text": [
      "Size of train data : 7500\n",
      "Size of test data : 2500\n"
     ]
    }
   ],
   "source": [
    "print('Size of train data :', len(X_train))\n",
    "print('Size of test data :', len(X_test))"
   ]
  },
  {
   "cell_type": "markdown",
   "metadata": {},
   "source": [
    "## Core Analysis"
   ]
  },
  {
   "cell_type": "markdown",
   "metadata": {},
   "source": [
    "## First approach : Artificial Neural network "
   ]
  },
  {
   "cell_type": "code",
   "execution_count": 16,
   "metadata": {},
   "outputs": [
    {
     "name": "stderr",
     "output_type": "stream",
     "text": [
      "Using TensorFlow backend.\n"
     ]
    }
   ],
   "source": [
    "\"\"\" Importations \"\"\"\n",
    "import keras\n",
    "from keras.models import Sequential\n",
    "from keras.layers import Dense\n",
    "from sklearn.metrics import classification_report, confusion_matrix, f1_score"
   ]
  },
  {
   "cell_type": "markdown",
   "metadata": {},
   "source": [
    "## <font size=\"3\"> Defining the model :</font>"
   ]
  },
  {
   "cell_type": "code",
   "execution_count": 17,
   "metadata": {
    "scrolled": true
   },
   "outputs": [
    {
     "name": "stdout",
     "output_type": "stream",
     "text": [
      "WARNING:tensorflow:From /home/mdassouli/.local/lib/python3.6/site-packages/tensorflow/python/framework/op_def_library.py:263: colocate_with (from tensorflow.python.framework.ops) is deprecated and will be removed in a future version.\n",
      "Instructions for updating:\n",
      "Colocations handled automatically by placer.\n"
     ]
    }
   ],
   "source": [
    "# Initialising the ANN\n",
    "classifier = keras.models.Sequential()\n",
    "\n",
    "# Adding the input layer and the first hidden layer\n",
    "classifier.add(Dense(units = 6, kernel_initializer = 'uniform', activation = 'relu', input_dim = 11))\n",
    "\n",
    "# Adding the second hidden layer\n",
    "classifier.add(Dense(units = 6, kernel_initializer = 'uniform', activation = 'relu'))\n",
    "\n",
    "# Adding the output layer\n",
    "classifier.add(Dense(units = 1, kernel_initializer = 'uniform', activation = 'sigmoid'))\n",
    "\n",
    "# Compiling the ANN\n",
    "classifier.compile(optimizer = 'adam', loss = 'binary_crossentropy', metrics = ['accuracy'])\n"
   ]
  },
  {
   "cell_type": "markdown",
   "metadata": {},
   "source": [
    "<font size=\"3\"> Some remarks : \n",
    "- I chose the number of hidden layers' units to be the average of the input and the output layers.\n",
    "- Since we want a probability outcome, the last layer unit's activation should be a sigmoid. </font>"
   ]
  },
  {
   "cell_type": "code",
   "execution_count": 18,
   "metadata": {
    "scrolled": true
   },
   "outputs": [
    {
     "name": "stdout",
     "output_type": "stream",
     "text": [
      "_________________________________________________________________\n",
      "Layer (type)                 Output Shape              Param #   \n",
      "=================================================================\n",
      "dense_1 (Dense)              (None, 6)                 72        \n",
      "_________________________________________________________________\n",
      "dense_2 (Dense)              (None, 6)                 42        \n",
      "_________________________________________________________________\n",
      "dense_3 (Dense)              (None, 1)                 7         \n",
      "=================================================================\n",
      "Total params: 121\n",
      "Trainable params: 121\n",
      "Non-trainable params: 0\n",
      "_________________________________________________________________\n"
     ]
    }
   ],
   "source": [
    "classifier.summary()"
   ]
  },
  {
   "cell_type": "markdown",
   "metadata": {},
   "source": [
    "## <font size=\"3\"> Fitting and testing the model with the imbalanced data :</font>"
   ]
  },
  {
   "cell_type": "code",
   "execution_count": 19,
   "metadata": {
    "scrolled": true
   },
   "outputs": [
    {
     "name": "stdout",
     "output_type": "stream",
     "text": [
      "WARNING:tensorflow:From /home/mdassouli/.local/lib/python3.6/site-packages/tensorflow/python/ops/math_ops.py:3066: to_int32 (from tensorflow.python.ops.math_ops) is deprecated and will be removed in a future version.\n",
      "Instructions for updating:\n",
      "Use tf.cast instead.\n"
     ]
    },
    {
     "name": "stderr",
     "output_type": "stream",
     "text": [
      "/usr/lib/python3/dist-packages/ipykernel_launcher.py:1: UserWarning: The `nb_epoch` argument in `fit` has been renamed `epochs`.\n",
      "  \"\"\"Entry point for launching an IPython kernel.\n"
     ]
    },
    {
     "name": "stdout",
     "output_type": "stream",
     "text": [
      "Train on 7500 samples, validate on 2500 samples\n",
      "Epoch 1/100\n",
      "7500/7500 [==============================] - 0s 61us/step - loss: 0.5512 - acc: 0.7944 - val_loss: 0.4474 - val_acc: 0.7964\n",
      "Epoch 2/100\n",
      "7500/7500 [==============================] - 0s 33us/step - loss: 0.4344 - acc: 0.7963 - val_loss: 0.4238 - val_acc: 0.7964\n",
      "Epoch 3/100\n",
      "7500/7500 [==============================] - 0s 34us/step - loss: 0.4220 - acc: 0.7963 - val_loss: 0.4150 - val_acc: 0.7964\n",
      "Epoch 4/100\n",
      "7500/7500 [==============================] - 0s 34us/step - loss: 0.4145 - acc: 0.7963 - val_loss: 0.4082 - val_acc: 0.7964\n",
      "Epoch 5/100\n",
      "7500/7500 [==============================] - 0s 33us/step - loss: 0.4085 - acc: 0.7963 - val_loss: 0.4031 - val_acc: 0.7964\n",
      "Epoch 6/100\n",
      "7500/7500 [==============================] - 0s 30us/step - loss: 0.4026 - acc: 0.7963 - val_loss: 0.3983 - val_acc: 0.7964\n",
      "Epoch 7/100\n",
      "7500/7500 [==============================] - 0s 29us/step - loss: 0.3969 - acc: 0.8163 - val_loss: 0.3924 - val_acc: 0.8228\n",
      "Epoch 8/100\n",
      "7500/7500 [==============================] - 0s 29us/step - loss: 0.3920 - acc: 0.8239 - val_loss: 0.3891 - val_acc: 0.8244\n",
      "Epoch 9/100\n",
      "7500/7500 [==============================] - 0s 30us/step - loss: 0.3879 - acc: 0.8276 - val_loss: 0.3844 - val_acc: 0.8272\n",
      "Epoch 10/100\n",
      "7500/7500 [==============================] - 0s 44us/step - loss: 0.3839 - acc: 0.8275 - val_loss: 0.3801 - val_acc: 0.8268\n",
      "Epoch 11/100\n",
      "7500/7500 [==============================] - 0s 41us/step - loss: 0.3800 - acc: 0.8287 - val_loss: 0.3787 - val_acc: 0.8432\n",
      "Epoch 12/100\n",
      "7500/7500 [==============================] - 0s 33us/step - loss: 0.3765 - acc: 0.8424 - val_loss: 0.3742 - val_acc: 0.8480\n",
      "Epoch 13/100\n",
      "7500/7500 [==============================] - 0s 34us/step - loss: 0.3740 - acc: 0.8465 - val_loss: 0.3710 - val_acc: 0.8444\n",
      "Epoch 14/100\n",
      "7500/7500 [==============================] - 0s 34us/step - loss: 0.3714 - acc: 0.8472 - val_loss: 0.3664 - val_acc: 0.8492\n",
      "Epoch 15/100\n",
      "7500/7500 [==============================] - 0s 36us/step - loss: 0.3689 - acc: 0.8488 - val_loss: 0.3740 - val_acc: 0.8472\n",
      "Epoch 16/100\n",
      "7500/7500 [==============================] - 0s 34us/step - loss: 0.3662 - acc: 0.8489 - val_loss: 0.3629 - val_acc: 0.8504\n",
      "Epoch 17/100\n",
      "7500/7500 [==============================] - 0s 33us/step - loss: 0.3650 - acc: 0.8512 - val_loss: 0.3674 - val_acc: 0.8492\n",
      "Epoch 18/100\n",
      "7500/7500 [==============================] - 0s 33us/step - loss: 0.3633 - acc: 0.8523 - val_loss: 0.3609 - val_acc: 0.8532\n",
      "Epoch 19/100\n",
      "7500/7500 [==============================] - 0s 34us/step - loss: 0.3628 - acc: 0.8528 - val_loss: 0.3573 - val_acc: 0.8520\n",
      "Epoch 20/100\n",
      "7500/7500 [==============================] - 0s 29us/step - loss: 0.3612 - acc: 0.8545 - val_loss: 0.3587 - val_acc: 0.8540\n",
      "Epoch 21/100\n",
      "7500/7500 [==============================] - 0s 29us/step - loss: 0.3598 - acc: 0.8549 - val_loss: 0.3560 - val_acc: 0.8532\n",
      "Epoch 22/100\n",
      "7500/7500 [==============================] - 0s 29us/step - loss: 0.3590 - acc: 0.8556 - val_loss: 0.3569 - val_acc: 0.8548\n",
      "Epoch 23/100\n",
      "7500/7500 [==============================] - 0s 39us/step - loss: 0.3586 - acc: 0.8551 - val_loss: 0.3549 - val_acc: 0.8564\n",
      "Epoch 24/100\n",
      "7500/7500 [==============================] - ETA: 0s - loss: 0.3592 - acc: 0.853 - 0s 34us/step - loss: 0.3578 - acc: 0.8549 - val_loss: 0.3564 - val_acc: 0.8536\n",
      "Epoch 25/100\n",
      "7500/7500 [==============================] - 0s 39us/step - loss: 0.3575 - acc: 0.8551 - val_loss: 0.3554 - val_acc: 0.8540\n",
      "Epoch 26/100\n",
      "7500/7500 [==============================] - 0s 34us/step - loss: 0.3568 - acc: 0.8559 - val_loss: 0.3523 - val_acc: 0.8560\n",
      "Epoch 27/100\n",
      "7500/7500 [==============================] - 0s 33us/step - loss: 0.3557 - acc: 0.8563 - val_loss: 0.3515 - val_acc: 0.8580\n",
      "Epoch 28/100\n",
      "7500/7500 [==============================] - 0s 41us/step - loss: 0.3551 - acc: 0.8548 - val_loss: 0.3507 - val_acc: 0.8576\n",
      "Epoch 29/100\n",
      "7500/7500 [==============================] - 0s 35us/step - loss: 0.3547 - acc: 0.8585 - val_loss: 0.3506 - val_acc: 0.8588\n",
      "Epoch 30/100\n",
      "7500/7500 [==============================] - 0s 40us/step - loss: 0.3549 - acc: 0.8563 - val_loss: 0.3528 - val_acc: 0.8556\n",
      "Epoch 31/100\n",
      "7500/7500 [==============================] - 0s 33us/step - loss: 0.3535 - acc: 0.8580 - val_loss: 0.3556 - val_acc: 0.8512\n",
      "Epoch 32/100\n",
      "7500/7500 [==============================] - 0s 33us/step - loss: 0.3530 - acc: 0.8584 - val_loss: 0.3503 - val_acc: 0.8560\n",
      "Epoch 33/100\n",
      "7500/7500 [==============================] - 0s 31us/step - loss: 0.3534 - acc: 0.8591 - val_loss: 0.3499 - val_acc: 0.8552\n",
      "Epoch 34/100\n",
      "7500/7500 [==============================] - 0s 38us/step - loss: 0.3532 - acc: 0.8589 - val_loss: 0.3507 - val_acc: 0.8560\n",
      "Epoch 35/100\n",
      "7500/7500 [==============================] - 0s 35us/step - loss: 0.3526 - acc: 0.8587 - val_loss: 0.3510 - val_acc: 0.8556\n",
      "Epoch 36/100\n",
      "7500/7500 [==============================] - 0s 37us/step - loss: 0.3524 - acc: 0.8601 - val_loss: 0.3497 - val_acc: 0.8580\n",
      "Epoch 37/100\n",
      "7500/7500 [==============================] - 0s 42us/step - loss: 0.3521 - acc: 0.8581 - val_loss: 0.3482 - val_acc: 0.8560\n",
      "Epoch 38/100\n",
      "7500/7500 [==============================] - 0s 43us/step - loss: 0.3521 - acc: 0.8587 - val_loss: 0.3474 - val_acc: 0.8584\n",
      "Epoch 39/100\n",
      "7500/7500 [==============================] - 0s 43us/step - loss: 0.3517 - acc: 0.8567 - val_loss: 0.3522 - val_acc: 0.8512\n",
      "Epoch 40/100\n",
      "7500/7500 [==============================] - 0s 45us/step - loss: 0.3505 - acc: 0.8576 - val_loss: 0.3498 - val_acc: 0.8584\n",
      "Epoch 41/100\n",
      "7500/7500 [==============================] - 0s 44us/step - loss: 0.3508 - acc: 0.8600 - val_loss: 0.3475 - val_acc: 0.8616\n",
      "Epoch 42/100\n",
      "7500/7500 [==============================] - 0s 41us/step - loss: 0.3504 - acc: 0.8615 - val_loss: 0.3486 - val_acc: 0.8600\n",
      "Epoch 43/100\n",
      "7500/7500 [==============================] - 0s 33us/step - loss: 0.3501 - acc: 0.8605 - val_loss: 0.3490 - val_acc: 0.8548\n",
      "Epoch 44/100\n",
      "7500/7500 [==============================] - 0s 32us/step - loss: 0.3501 - acc: 0.8568 - val_loss: 0.3494 - val_acc: 0.8560\n",
      "Epoch 45/100\n",
      "7500/7500 [==============================] - 0s 41us/step - loss: 0.3496 - acc: 0.8597 - val_loss: 0.3451 - val_acc: 0.8536\n",
      "Epoch 46/100\n",
      "7500/7500 [==============================] - 0s 43us/step - loss: 0.3497 - acc: 0.8587 - val_loss: 0.3585 - val_acc: 0.8500\n",
      "Epoch 47/100\n",
      "7500/7500 [==============================] - 0s 42us/step - loss: 0.3497 - acc: 0.8605 - val_loss: 0.3533 - val_acc: 0.8548\n",
      "Epoch 48/100\n",
      "7500/7500 [==============================] - ETA: 0s - loss: 0.3489 - acc: 0.859 - 0s 40us/step - loss: 0.3487 - acc: 0.8595 - val_loss: 0.3475 - val_acc: 0.8536\n",
      "Epoch 49/100\n",
      "7500/7500 [==============================] - 0s 40us/step - loss: 0.3494 - acc: 0.8603 - val_loss: 0.3523 - val_acc: 0.8552\n",
      "Epoch 50/100\n",
      "7500/7500 [==============================] - 0s 34us/step - loss: 0.3487 - acc: 0.8591 - val_loss: 0.3454 - val_acc: 0.8560\n",
      "Epoch 51/100\n",
      "7500/7500 [==============================] - 0s 31us/step - loss: 0.3484 - acc: 0.8623 - val_loss: 0.3489 - val_acc: 0.8560\n",
      "Epoch 52/100\n",
      "7500/7500 [==============================] - 0s 30us/step - loss: 0.3486 - acc: 0.8600 - val_loss: 0.3449 - val_acc: 0.8556\n",
      "Epoch 53/100\n",
      "7500/7500 [==============================] - 0s 29us/step - loss: 0.3482 - acc: 0.8608 - val_loss: 0.3473 - val_acc: 0.8548\n",
      "Epoch 54/100\n",
      "7500/7500 [==============================] - 0s 30us/step - loss: 0.3485 - acc: 0.8603 - val_loss: 0.3530 - val_acc: 0.8548\n",
      "Epoch 55/100\n",
      "7500/7500 [==============================] - 0s 30us/step - loss: 0.3479 - acc: 0.8611 - val_loss: 0.3519 - val_acc: 0.8548\n",
      "Epoch 56/100\n",
      "7500/7500 [==============================] - 0s 30us/step - loss: 0.3483 - acc: 0.8601 - val_loss: 0.3540 - val_acc: 0.8552\n",
      "Epoch 57/100\n",
      "7500/7500 [==============================] - 0s 30us/step - loss: 0.3477 - acc: 0.8613 - val_loss: 0.3442 - val_acc: 0.8572\n",
      "Epoch 58/100\n",
      "7500/7500 [==============================] - 0s 41us/step - loss: 0.3482 - acc: 0.8591 - val_loss: 0.3450 - val_acc: 0.8576\n",
      "Epoch 59/100\n",
      "7500/7500 [==============================] - 0s 34us/step - loss: 0.3474 - acc: 0.8588 - val_loss: 0.3510 - val_acc: 0.8552\n"
     ]
    },
    {
     "name": "stdout",
     "output_type": "stream",
     "text": [
      "Epoch 60/100\n",
      "7500/7500 [==============================] - 0s 30us/step - loss: 0.3467 - acc: 0.8616 - val_loss: 0.3439 - val_acc: 0.8604\n",
      "Epoch 61/100\n",
      "7500/7500 [==============================] - 0s 28us/step - loss: 0.3474 - acc: 0.8593 - val_loss: 0.3511 - val_acc: 0.8564\n",
      "Epoch 62/100\n",
      "7500/7500 [==============================] - 0s 30us/step - loss: 0.3467 - acc: 0.8615 - val_loss: 0.3470 - val_acc: 0.8564\n",
      "Epoch 63/100\n",
      "7500/7500 [==============================] - 0s 29us/step - loss: 0.3476 - acc: 0.8596 - val_loss: 0.3477 - val_acc: 0.8572\n",
      "Epoch 64/100\n",
      "7500/7500 [==============================] - 0s 41us/step - loss: 0.3468 - acc: 0.8617 - val_loss: 0.3490 - val_acc: 0.8556\n",
      "Epoch 65/100\n",
      "7500/7500 [==============================] - 0s 34us/step - loss: 0.3469 - acc: 0.8616 - val_loss: 0.3452 - val_acc: 0.8552\n",
      "Epoch 66/100\n",
      "7500/7500 [==============================] - 0s 33us/step - loss: 0.3464 - acc: 0.8625 - val_loss: 0.3464 - val_acc: 0.8544\n",
      "Epoch 67/100\n",
      "7500/7500 [==============================] - 0s 30us/step - loss: 0.3464 - acc: 0.8613 - val_loss: 0.3421 - val_acc: 0.8604\n",
      "Epoch 68/100\n",
      "7500/7500 [==============================] - 0s 29us/step - loss: 0.3461 - acc: 0.8619 - val_loss: 0.3453 - val_acc: 0.8556\n",
      "Epoch 69/100\n",
      "7500/7500 [==============================] - 0s 28us/step - loss: 0.3455 - acc: 0.8605 - val_loss: 0.3428 - val_acc: 0.8632\n",
      "Epoch 70/100\n",
      "7500/7500 [==============================] - 0s 29us/step - loss: 0.3466 - acc: 0.8607 - val_loss: 0.3414 - val_acc: 0.8608\n",
      "Epoch 71/100\n",
      "7500/7500 [==============================] - 0s 28us/step - loss: 0.3457 - acc: 0.8609 - val_loss: 0.3421 - val_acc: 0.8564\n",
      "Epoch 72/100\n",
      "7500/7500 [==============================] - 0s 28us/step - loss: 0.3457 - acc: 0.8613 - val_loss: 0.3436 - val_acc: 0.8612\n",
      "Epoch 73/100\n",
      "7500/7500 [==============================] - 0s 29us/step - loss: 0.3457 - acc: 0.8612 - val_loss: 0.3444 - val_acc: 0.8584\n",
      "Epoch 74/100\n",
      "7500/7500 [==============================] - 0s 29us/step - loss: 0.3452 - acc: 0.8620 - val_loss: 0.3447 - val_acc: 0.8588\n",
      "Epoch 75/100\n",
      "7500/7500 [==============================] - 0s 29us/step - loss: 0.3451 - acc: 0.8621 - val_loss: 0.3420 - val_acc: 0.8612\n",
      "Epoch 76/100\n",
      "7500/7500 [==============================] - 0s 29us/step - loss: 0.3459 - acc: 0.8608 - val_loss: 0.3419 - val_acc: 0.8584\n",
      "Epoch 77/100\n",
      "7500/7500 [==============================] - 0s 29us/step - loss: 0.3444 - acc: 0.8611 - val_loss: 0.3445 - val_acc: 0.8588\n",
      "Epoch 78/100\n",
      "7500/7500 [==============================] - 0s 29us/step - loss: 0.3449 - acc: 0.8617 - val_loss: 0.3401 - val_acc: 0.8588\n",
      "Epoch 79/100\n",
      "7500/7500 [==============================] - 0s 29us/step - loss: 0.3445 - acc: 0.8619 - val_loss: 0.3430 - val_acc: 0.8584\n",
      "Epoch 80/100\n",
      "7500/7500 [==============================] - 0s 29us/step - loss: 0.3449 - acc: 0.8596 - val_loss: 0.3418 - val_acc: 0.8636\n",
      "Epoch 81/100\n",
      "7500/7500 [==============================] - 0s 29us/step - loss: 0.3448 - acc: 0.8633 - val_loss: 0.3437 - val_acc: 0.8576\n",
      "Epoch 82/100\n",
      "7500/7500 [==============================] - 0s 29us/step - loss: 0.3446 - acc: 0.8617 - val_loss: 0.3421 - val_acc: 0.8584\n",
      "Epoch 83/100\n",
      "7500/7500 [==============================] - 0s 29us/step - loss: 0.3452 - acc: 0.8607 - val_loss: 0.3431 - val_acc: 0.8568\n",
      "Epoch 84/100\n",
      "7500/7500 [==============================] - 0s 29us/step - loss: 0.3446 - acc: 0.8600 - val_loss: 0.3411 - val_acc: 0.8600\n",
      "Epoch 85/100\n",
      "7500/7500 [==============================] - 0s 29us/step - loss: 0.3441 - acc: 0.8615 - val_loss: 0.3435 - val_acc: 0.8568\n",
      "Epoch 86/100\n",
      "7500/7500 [==============================] - 0s 32us/step - loss: 0.3453 - acc: 0.8616 - val_loss: 0.3398 - val_acc: 0.8616\n",
      "Epoch 87/100\n",
      "7500/7500 [==============================] - 0s 34us/step - loss: 0.3438 - acc: 0.8597 - val_loss: 0.3416 - val_acc: 0.8604\n",
      "Epoch 88/100\n",
      "7500/7500 [==============================] - 0s 36us/step - loss: 0.3433 - acc: 0.8619 - val_loss: 0.3398 - val_acc: 0.8608\n",
      "Epoch 89/100\n",
      "7500/7500 [==============================] - 0s 37us/step - loss: 0.3439 - acc: 0.8601 - val_loss: 0.3452 - val_acc: 0.8568\n",
      "Epoch 90/100\n",
      "7500/7500 [==============================] - 0s 38us/step - loss: 0.3444 - acc: 0.8604 - val_loss: 0.3428 - val_acc: 0.8576\n",
      "Epoch 91/100\n",
      "7500/7500 [==============================] - 0s 39us/step - loss: 0.3432 - acc: 0.8605 - val_loss: 0.3469 - val_acc: 0.8536\n",
      "Epoch 92/100\n",
      "7500/7500 [==============================] - 0s 37us/step - loss: 0.3433 - acc: 0.8599 - val_loss: 0.3389 - val_acc: 0.8608\n",
      "Epoch 93/100\n",
      "7500/7500 [==============================] - 0s 38us/step - loss: 0.3440 - acc: 0.8613 - val_loss: 0.3405 - val_acc: 0.8604\n",
      "Epoch 94/100\n",
      "7500/7500 [==============================] - 0s 38us/step - loss: 0.3437 - acc: 0.8609 - val_loss: 0.3405 - val_acc: 0.8604\n",
      "Epoch 95/100\n",
      "7500/7500 [==============================] - 0s 39us/step - loss: 0.3439 - acc: 0.8599 - val_loss: 0.3443 - val_acc: 0.8592\n",
      "Epoch 96/100\n",
      "7500/7500 [==============================] - 0s 38us/step - loss: 0.3439 - acc: 0.8609 - val_loss: 0.3472 - val_acc: 0.8552\n",
      "Epoch 97/100\n",
      "7500/7500 [==============================] - 0s 38us/step - loss: 0.3432 - acc: 0.8624 - val_loss: 0.3419 - val_acc: 0.8568\n",
      "Epoch 98/100\n",
      "7500/7500 [==============================] - 0s 38us/step - loss: 0.3439 - acc: 0.8597 - val_loss: 0.3414 - val_acc: 0.8588\n",
      "Epoch 99/100\n",
      "7500/7500 [==============================] - 0s 37us/step - loss: 0.3428 - acc: 0.8617 - val_loss: 0.3391 - val_acc: 0.8612\n",
      "Epoch 100/100\n",
      "7500/7500 [==============================] - 0s 38us/step - loss: 0.3429 - acc: 0.8607 - val_loss: 0.3413 - val_acc: 0.8644\n"
     ]
    }
   ],
   "source": [
    "hist = classifier.fit(X_train, y_train, batch_size = 32, nb_epoch=100, shuffle=True, verbose=1, validation_data=(X_test, y_test))"
   ]
  },
  {
   "cell_type": "code",
   "execution_count": 20,
   "metadata": {
    "scrolled": true
   },
   "outputs": [
    {
     "data": {
      "image/png": "[encoded data removed]",
      "text/plain": [
       "<matplotlib.figure.Figure at 0x7ff2c0276198>"
      ]
     },
     "metadata": {},
     "output_type": "display_data"
    }
   ],
   "source": [
    "# Summarize history for accuracy\n",
    "plt.plot(hist.history['acc'])\n",
    "plt.plot(hist.history['val_acc'])\n",
    "plt.title('Model accuracy',{\"fontsize\" : 14})\n",
    "plt.ylabel('accuracy')\n",
    "plt.xlabel('Epoch')\n",
    "plt.ylim(0,1)\n",
    "plt.legend(['train', 'test'], loc='upper left')\n",
    "plt.show()"
   ]
  },
  {
   "cell_type": "markdown",
   "metadata": {},
   "source": [
    "<font size=\"3\"> We got an accuracy of <b>86%</b>. Not bad! Let's see the performance of the model by looking at the confusion matrix and the F1 score.\n",
    "</font>"
   ]
  },
  {
   "cell_type": "code",
   "execution_count": 21,
   "metadata": {
    "scrolled": false
   },
   "outputs": [
    {
     "name": "stdout",
     "output_type": "stream",
     "text": [
      "Test Set:\n",
      "              precision    recall  f1-score   support\n",
      "\n",
      "           0       0.88      0.97      0.92      1991\n",
      "           1       0.78      0.46      0.58       509\n",
      "\n",
      "    accuracy                           0.86      2500\n",
      "   macro avg       0.83      0.71      0.75      2500\n",
      "weighted avg       0.86      0.86      0.85      2500\n",
      "\n",
      "[[1926   65]\n",
      " [ 274  235]]\n"
     ]
    },
    {
     "data": {
      "image/png": "[encoded data removed]",
      "text/plain": [
       "<matplotlib.figure.Figure at 0x7ff2dfed2b00>"
      ]
     },
     "metadata": {},
     "output_type": "display_data"
    }
   ],
   "source": [
    "y_predict = classifier.predict(X_test) >= 0.5\n",
    "\n",
    "report = classification_report(y_true=y_test.astype(int),y_pred= y_predict)\n",
    "matrix = confusion_matrix(y_true=y_test.astype(int),y_pred=y_predict)\n",
    "print(\"Test Set:\")\n",
    "print(report)\n",
    "print(matrix)\n",
    "plt.matshow(matrix)\n",
    "plt.colorbar()\n",
    "plt.xlabel(\"Real class\")\n",
    "plt.ylabel(\"Predicted class\")\n",
    "plt.show()"
   ]
  },
  {
   "cell_type": "markdown",
   "metadata": {},
   "source": [
    "<font size=\"3\"> The F1 score is about <b>58%</b>. It is low due to the imbalanced dataset. A high accuracy doesn't always mean a good performance !\n",
    "</font>"
   ]
  },
  {
   "cell_type": "markdown",
   "metadata": {},
   "source": [
    "## <font size=\"3\">  Fitting and testing the model using a balanced data : </font>"
   ]
  },
  {
   "cell_type": "markdown",
   "metadata": {},
   "source": [
    "<font size=\"3\"> Let's try balancing the data with resampling. The most efficient solution was to take the same numbers of samples for both \"Exited\"=1 and \"Exited\"=0. </font>"
   ]
  },
  {
   "cell_type": "code",
   "execution_count": 22,
   "metadata": {},
   "outputs": [],
   "source": [
    "#from imblearn.combine import SMOTEENN\n",
    "#from imblearn.over_sampling import RandomOverSampler\n",
    "#from imblearn.under_sampling import ClusterCentroids\n",
    "#resampler = SMOTEENN(random_state=0) \n",
    "#resampler1 = RandomOverSampler(random_state=0)\n",
    "#resampler2 = ClusterCentroids(random_state=0)\n",
    "#X_train_b, y_train_b = resampler.fit_resample(X_train, y_train.astype(int))"
   ]
  },
  {
   "cell_type": "code",
   "execution_count": 23,
   "metadata": {},
   "outputs": [
    {
     "data": {
      "image/png": "[encoded data removed]",
      "text/plain": [
       "<matplotlib.figure.Figure at 0x7ff2dfe95f28>"
      ]
     },
     "metadata": {},
     "output_type": "display_data"
    }
   ],
   "source": [
    "# Lets shuffle the data before creating the subsamples\n",
    "data = data.sample(frac=1)\n",
    "\n",
    "leavers = data[data['Exited'] == 1]\n",
    "stayers = data[data['Exited'] == 0][:2037]\n",
    "\n",
    "new_data = pd.concat([stayers, leavers])\n",
    "# Shuffle dataframe rows\n",
    "new_data = new_data.sample(frac=1, random_state=42)\n",
    "\n",
    "# Let's plot the Transaction class against the Frequency\n",
    "labels = ['Stayers','Leavers']\n",
    "classes = pd.value_counts(new_data['Exited'], sort = True)\n",
    "classes.plot(kind = 'bar', rot=0)\n",
    "plt.title(\"Transaction class distribution\", {\"fontsize\" : 14})\n",
    "plt.xticks(range(2), labels)\n",
    "plt.xlabel(\"Class\")\n",
    "plt.ylabel(\"Frequency\")\n",
    "plt.show()"
   ]
  },
  {
   "cell_type": "markdown",
   "metadata": {},
   "source": [
    "<font size=\"3\"> We do once again all the previous steps (Data preprocessing, defining and fitting and the ANN) </font>"
   ]
  },
  {
   "cell_type": "code",
   "execution_count": 24,
   "metadata": {},
   "outputs": [
    {
     "name": "stderr",
     "output_type": "stream",
     "text": [
      "/usr/lib/python3/dist-packages/ipykernel_launcher.py:33: UserWarning: The `nb_epoch` argument in `fit` has been renamed `epochs`.\n"
     ]
    },
    {
     "name": "stdout",
     "output_type": "stream",
     "text": [
      "Train on 3259 samples, validate on 815 samples\n",
      "Epoch 1/100\n",
      "3259/3259 [==============================] - 0s 117us/step - loss: 0.6923 - acc: 0.5560 - val_loss: 0.6881 - val_acc: 0.7117\n",
      "Epoch 2/100\n",
      "3259/3259 [==============================] - 0s 33us/step - loss: 0.6715 - acc: 0.6996 - val_loss: 0.6388 - val_acc: 0.7288\n",
      "Epoch 3/100\n",
      "3259/3259 [==============================] - 0s 34us/step - loss: 0.6210 - acc: 0.7094 - val_loss: 0.5828 - val_acc: 0.7301\n",
      "Epoch 4/100\n",
      "3259/3259 [==============================] - 0s 36us/step - loss: 0.5861 - acc: 0.7183 - val_loss: 0.5570 - val_acc: 0.7411\n",
      "Epoch 5/100\n",
      "3259/3259 [==============================] - 0s 37us/step - loss: 0.5700 - acc: 0.7245 - val_loss: 0.5435 - val_acc: 0.7423\n",
      "Epoch 6/100\n",
      "3259/3259 [==============================] - 0s 37us/step - loss: 0.5602 - acc: 0.7284 - val_loss: 0.5341 - val_acc: 0.7411\n",
      "Epoch 7/100\n",
      "3259/3259 [==============================] - 0s 37us/step - loss: 0.5519 - acc: 0.7297 - val_loss: 0.5246 - val_acc: 0.7497\n",
      "Epoch 8/100\n",
      "3259/3259 [==============================] - 0s 40us/step - loss: 0.5434 - acc: 0.7355 - val_loss: 0.5173 - val_acc: 0.7571\n",
      "Epoch 9/100\n",
      "3259/3259 [==============================] - 0s 39us/step - loss: 0.5359 - acc: 0.7410 - val_loss: 0.5100 - val_acc: 0.7669\n",
      "Epoch 10/100\n",
      "3259/3259 [==============================] - 0s 39us/step - loss: 0.5289 - acc: 0.7426 - val_loss: 0.5031 - val_acc: 0.7632\n",
      "Epoch 11/100\n",
      "3259/3259 [==============================] - 0s 40us/step - loss: 0.5216 - acc: 0.7475 - val_loss: 0.4977 - val_acc: 0.7656\n",
      "Epoch 12/100\n",
      "3259/3259 [==============================] - 0s 40us/step - loss: 0.5155 - acc: 0.7484 - val_loss: 0.4910 - val_acc: 0.7755\n",
      "Epoch 13/100\n",
      "3259/3259 [==============================] - 0s 39us/step - loss: 0.5091 - acc: 0.7570 - val_loss: 0.4867 - val_acc: 0.7779\n",
      "Epoch 14/100\n",
      "3259/3259 [==============================] - 0s 40us/step - loss: 0.5038 - acc: 0.7594 - val_loss: 0.4823 - val_acc: 0.7865\n",
      "Epoch 15/100\n",
      "3259/3259 [==============================] - 0s 51us/step - loss: 0.4994 - acc: 0.7631 - val_loss: 0.4793 - val_acc: 0.7840\n",
      "Epoch 16/100\n",
      "3259/3259 [==============================] - 0s 50us/step - loss: 0.4955 - acc: 0.7668 - val_loss: 0.4770 - val_acc: 0.7804\n",
      "Epoch 17/100\n",
      "3259/3259 [==============================] - 0s 43us/step - loss: 0.4919 - acc: 0.7665 - val_loss: 0.4752 - val_acc: 0.7779\n",
      "Epoch 18/100\n",
      "3259/3259 [==============================] - 0s 41us/step - loss: 0.4886 - acc: 0.7653 - val_loss: 0.4737 - val_acc: 0.7804\n",
      "Epoch 19/100\n",
      "3259/3259 [==============================] - 0s 41us/step - loss: 0.4859 - acc: 0.7674 - val_loss: 0.4743 - val_acc: 0.7779\n",
      "Epoch 20/100\n",
      "3259/3259 [==============================] - 0s 47us/step - loss: 0.4841 - acc: 0.7696 - val_loss: 0.4703 - val_acc: 0.7804\n",
      "Epoch 21/100\n",
      "3259/3259 [==============================] - 0s 50us/step - loss: 0.4820 - acc: 0.7686 - val_loss: 0.4692 - val_acc: 0.7791\n",
      "Epoch 22/100\n",
      "3259/3259 [==============================] - 0s 54us/step - loss: 0.4796 - acc: 0.7702 - val_loss: 0.4686 - val_acc: 0.7779\n",
      "Epoch 23/100\n",
      "3259/3259 [==============================] - 0s 48us/step - loss: 0.4783 - acc: 0.7689 - val_loss: 0.4675 - val_acc: 0.7791\n",
      "Epoch 24/100\n",
      "3259/3259 [==============================] - 0s 44us/step - loss: 0.4771 - acc: 0.7696 - val_loss: 0.4670 - val_acc: 0.7767\n",
      "Epoch 25/100\n",
      "3259/3259 [==============================] - 0s 45us/step - loss: 0.4748 - acc: 0.7671 - val_loss: 0.4676 - val_acc: 0.7804\n",
      "Epoch 26/100\n",
      "3259/3259 [==============================] - 0s 44us/step - loss: 0.4744 - acc: 0.7671 - val_loss: 0.4660 - val_acc: 0.7791\n",
      "Epoch 27/100\n",
      "3259/3259 [==============================] - 0s 44us/step - loss: 0.4727 - acc: 0.7696 - val_loss: 0.4650 - val_acc: 0.7791\n",
      "Epoch 28/100\n",
      "3259/3259 [==============================] - 0s 46us/step - loss: 0.4717 - acc: 0.7699 - val_loss: 0.4638 - val_acc: 0.7828\n",
      "Epoch 29/100\n",
      "3259/3259 [==============================] - 0s 54us/step - loss: 0.4708 - acc: 0.7714 - val_loss: 0.4634 - val_acc: 0.7791\n",
      "Epoch 30/100\n",
      "3259/3259 [==============================] - 0s 50us/step - loss: 0.4699 - acc: 0.7723 - val_loss: 0.4627 - val_acc: 0.7767\n",
      "Epoch 31/100\n",
      "3259/3259 [==============================] - 0s 45us/step - loss: 0.4687 - acc: 0.7699 - val_loss: 0.4625 - val_acc: 0.7804\n",
      "Epoch 32/100\n",
      "3259/3259 [==============================] - 0s 44us/step - loss: 0.4677 - acc: 0.7714 - val_loss: 0.4618 - val_acc: 0.7804\n",
      "Epoch 33/100\n",
      "3259/3259 [==============================] - 0s 50us/step - loss: 0.4673 - acc: 0.7729 - val_loss: 0.4613 - val_acc: 0.7865\n",
      "Epoch 34/100\n",
      "3259/3259 [==============================] - 0s 52us/step - loss: 0.4658 - acc: 0.7760 - val_loss: 0.4610 - val_acc: 0.7791\n",
      "Epoch 35/100\n",
      "3259/3259 [==============================] - 0s 45us/step - loss: 0.4670 - acc: 0.7720 - val_loss: 0.4604 - val_acc: 0.7877\n",
      "Epoch 36/100\n",
      "3259/3259 [==============================] - 0s 48us/step - loss: 0.4649 - acc: 0.7726 - val_loss: 0.4607 - val_acc: 0.7828\n",
      "Epoch 37/100\n",
      "3259/3259 [==============================] - 0s 39us/step - loss: 0.4647 - acc: 0.7763 - val_loss: 0.4615 - val_acc: 0.7816\n",
      "Epoch 38/100\n",
      "3259/3259 [==============================] - 0s 38us/step - loss: 0.4641 - acc: 0.7736 - val_loss: 0.4597 - val_acc: 0.7804\n",
      "Epoch 39/100\n",
      "3259/3259 [==============================] - 0s 39us/step - loss: 0.4632 - acc: 0.7726 - val_loss: 0.4602 - val_acc: 0.7816\n",
      "Epoch 40/100\n",
      "3259/3259 [==============================] - ETA: 0s - loss: 0.4617 - acc: 0.775 - 0s 38us/step - loss: 0.4636 - acc: 0.7745 - val_loss: 0.4596 - val_acc: 0.7865\n",
      "Epoch 41/100\n",
      "3259/3259 [==============================] - 0s 40us/step - loss: 0.4630 - acc: 0.7757 - val_loss: 0.4591 - val_acc: 0.7828\n",
      "Epoch 42/100\n",
      "3259/3259 [==============================] - 0s 39us/step - loss: 0.4617 - acc: 0.7708 - val_loss: 0.4594 - val_acc: 0.7804\n",
      "Epoch 43/100\n",
      "3259/3259 [==============================] - 0s 40us/step - loss: 0.4615 - acc: 0.7714 - val_loss: 0.4598 - val_acc: 0.7804\n",
      "Epoch 44/100\n",
      "3259/3259 [==============================] - 0s 39us/step - loss: 0.4619 - acc: 0.7757 - val_loss: 0.4592 - val_acc: 0.7828\n",
      "Epoch 45/100\n",
      "3259/3259 [==============================] - 0s 38us/step - loss: 0.4608 - acc: 0.7766 - val_loss: 0.4588 - val_acc: 0.7902\n",
      "Epoch 46/100\n",
      "3259/3259 [==============================] - 0s 39us/step - loss: 0.4604 - acc: 0.7723 - val_loss: 0.4593 - val_acc: 0.7816\n",
      "Epoch 47/100\n",
      "3259/3259 [==============================] - 0s 39us/step - loss: 0.4599 - acc: 0.7782 - val_loss: 0.4587 - val_acc: 0.7877\n",
      "Epoch 48/100\n",
      "3259/3259 [==============================] - 0s 39us/step - loss: 0.4606 - acc: 0.7726 - val_loss: 0.4607 - val_acc: 0.7779\n",
      "Epoch 49/100\n",
      "3259/3259 [==============================] - 0s 39us/step - loss: 0.4597 - acc: 0.7769 - val_loss: 0.4582 - val_acc: 0.7865\n",
      "Epoch 50/100\n",
      "3259/3259 [==============================] - 0s 39us/step - loss: 0.4596 - acc: 0.7745 - val_loss: 0.4584 - val_acc: 0.7914\n",
      "Epoch 51/100\n",
      "3259/3259 [==============================] - 0s 41us/step - loss: 0.4595 - acc: 0.7778 - val_loss: 0.4591 - val_acc: 0.7816\n",
      "Epoch 52/100\n",
      "3259/3259 [==============================] - 0s 45us/step - loss: 0.4588 - acc: 0.7794 - val_loss: 0.4582 - val_acc: 0.7853\n",
      "Epoch 53/100\n",
      "3259/3259 [==============================] - 0s 43us/step - loss: 0.4597 - acc: 0.7775 - val_loss: 0.4591 - val_acc: 0.7840\n",
      "Epoch 54/100\n",
      "3259/3259 [==============================] - 0s 44us/step - loss: 0.4590 - acc: 0.7772 - val_loss: 0.4576 - val_acc: 0.7877\n",
      "Epoch 55/100\n",
      "3259/3259 [==============================] - 0s 41us/step - loss: 0.4591 - acc: 0.7766 - val_loss: 0.4576 - val_acc: 0.7877\n",
      "Epoch 56/100\n",
      "3259/3259 [==============================] - 0s 40us/step - loss: 0.4583 - acc: 0.7803 - val_loss: 0.4581 - val_acc: 0.7853\n",
      "Epoch 57/100\n",
      "3259/3259 [==============================] - 0s 41us/step - loss: 0.4586 - acc: 0.7806 - val_loss: 0.4579 - val_acc: 0.7853\n",
      "Epoch 58/100\n",
      "3259/3259 [==============================] - 0s 42us/step - loss: 0.4579 - acc: 0.7782 - val_loss: 0.4574 - val_acc: 0.7877\n",
      "Epoch 59/100\n",
      "3259/3259 [==============================] - 0s 44us/step - loss: 0.4578 - acc: 0.7775 - val_loss: 0.4578 - val_acc: 0.7890\n",
      "Epoch 60/100\n",
      "3259/3259 [==============================] - 0s 43us/step - loss: 0.4576 - acc: 0.7769 - val_loss: 0.4584 - val_acc: 0.7926\n",
      "Epoch 61/100\n",
      "3259/3259 [==============================] - 0s 42us/step - loss: 0.4586 - acc: 0.7806 - val_loss: 0.4579 - val_acc: 0.7865\n",
      "Epoch 62/100\n",
      "3259/3259 [==============================] - 0s 40us/step - loss: 0.4573 - acc: 0.7794 - val_loss: 0.4577 - val_acc: 0.7914\n",
      "Epoch 63/100\n",
      "3259/3259 [==============================] - 0s 41us/step - loss: 0.4562 - acc: 0.7769 - val_loss: 0.4598 - val_acc: 0.7804\n",
      "Epoch 64/100\n",
      "3259/3259 [==============================] - 0s 43us/step - loss: 0.4577 - acc: 0.7800 - val_loss: 0.4581 - val_acc: 0.7840\n",
      "Epoch 65/100\n",
      "3259/3259 [==============================] - 0s 42us/step - loss: 0.4569 - acc: 0.7809 - val_loss: 0.4582 - val_acc: 0.7853\n",
      "Epoch 66/100\n",
      "3259/3259 [==============================] - 0s 42us/step - loss: 0.4565 - acc: 0.7791 - val_loss: 0.4585 - val_acc: 0.7828\n",
      "Epoch 67/100\n",
      "3259/3259 [==============================] - 0s 41us/step - loss: 0.4571 - acc: 0.7821 - val_loss: 0.4596 - val_acc: 0.7816\n",
      "Epoch 68/100\n",
      "3259/3259 [==============================] - 0s 37us/step - loss: 0.4568 - acc: 0.7806 - val_loss: 0.4572 - val_acc: 0.7914\n",
      "Epoch 69/100\n",
      "3259/3259 [==============================] - 0s 37us/step - loss: 0.4577 - acc: 0.7803 - val_loss: 0.4586 - val_acc: 0.7877\n",
      "Epoch 70/100\n",
      "3259/3259 [==============================] - 0s 38us/step - loss: 0.4565 - acc: 0.7791 - val_loss: 0.4576 - val_acc: 0.7902\n",
      "Epoch 71/100\n",
      "3259/3259 [==============================] - 0s 39us/step - loss: 0.4561 - acc: 0.7843 - val_loss: 0.4629 - val_acc: 0.7779\n",
      "Epoch 72/100\n",
      "3259/3259 [==============================] - 0s 40us/step - loss: 0.4568 - acc: 0.7824 - val_loss: 0.4581 - val_acc: 0.7877\n",
      "Epoch 73/100\n",
      "3259/3259 [==============================] - 0s 38us/step - loss: 0.4557 - acc: 0.7794 - val_loss: 0.4576 - val_acc: 0.7890\n",
      "Epoch 74/100\n",
      "3259/3259 [==============================] - 0s 38us/step - loss: 0.4566 - acc: 0.7800 - val_loss: 0.4572 - val_acc: 0.7926\n",
      "Epoch 75/100\n",
      "3259/3259 [==============================] - 0s 36us/step - loss: 0.4558 - acc: 0.7815 - val_loss: 0.4576 - val_acc: 0.7914\n",
      "Epoch 76/100\n",
      "3259/3259 [==============================] - 0s 39us/step - loss: 0.4564 - acc: 0.7797 - val_loss: 0.4573 - val_acc: 0.7951\n",
      "Epoch 77/100\n",
      "3259/3259 [==============================] - 0s 40us/step - loss: 0.4553 - acc: 0.7809 - val_loss: 0.4588 - val_acc: 0.7828\n",
      "Epoch 78/100\n",
      "3259/3259 [==============================] - 0s 40us/step - loss: 0.4551 - acc: 0.7834 - val_loss: 0.4584 - val_acc: 0.7840\n",
      "Epoch 79/100\n",
      "3259/3259 [==============================] - 0s 40us/step - loss: 0.4552 - acc: 0.7815 - val_loss: 0.4577 - val_acc: 0.7877\n",
      "Epoch 80/100\n",
      "3259/3259 [==============================] - 0s 39us/step - loss: 0.4552 - acc: 0.7806 - val_loss: 0.4565 - val_acc: 0.7877\n",
      "Epoch 81/100\n",
      "3259/3259 [==============================] - 0s 39us/step - loss: 0.4556 - acc: 0.7785 - val_loss: 0.4577 - val_acc: 0.7804\n",
      "Epoch 82/100\n",
      "3259/3259 [==============================] - 0s 39us/step - loss: 0.4559 - acc: 0.7821 - val_loss: 0.4563 - val_acc: 0.7902\n",
      "Epoch 83/100\n",
      "3259/3259 [==============================] - 0s 38us/step - loss: 0.4551 - acc: 0.7824 - val_loss: 0.4567 - val_acc: 0.7902\n",
      "Epoch 84/100\n",
      "3259/3259 [==============================] - 0s 38us/step - loss: 0.4555 - acc: 0.7809 - val_loss: 0.4573 - val_acc: 0.7828\n",
      "Epoch 85/100\n",
      "3259/3259 [==============================] - 0s 42us/step - loss: 0.4553 - acc: 0.7821 - val_loss: 0.4560 - val_acc: 0.7890\n",
      "Epoch 86/100\n",
      "3259/3259 [==============================] - 0s 39us/step - loss: 0.4547 - acc: 0.7815 - val_loss: 0.4575 - val_acc: 0.7853\n",
      "Epoch 87/100\n",
      "3259/3259 [==============================] - 0s 43us/step - loss: 0.4545 - acc: 0.7812 - val_loss: 0.4581 - val_acc: 0.7865\n",
      "Epoch 88/100\n",
      "3259/3259 [==============================] - 0s 40us/step - loss: 0.4551 - acc: 0.7821 - val_loss: 0.4555 - val_acc: 0.7902\n",
      "Epoch 89/100\n",
      "3259/3259 [==============================] - 0s 42us/step - loss: 0.4555 - acc: 0.7809 - val_loss: 0.4559 - val_acc: 0.7865\n",
      "Epoch 90/100\n",
      "3259/3259 [==============================] - 0s 40us/step - loss: 0.4543 - acc: 0.7806 - val_loss: 0.4561 - val_acc: 0.7914\n",
      "Epoch 91/100\n",
      "3259/3259 [==============================] - 0s 41us/step - loss: 0.4552 - acc: 0.7828 - val_loss: 0.4572 - val_acc: 0.7902\n",
      "Epoch 92/100\n",
      "3259/3259 [==============================] - 0s 41us/step - loss: 0.4536 - acc: 0.7837 - val_loss: 0.4563 - val_acc: 0.7840\n",
      "Epoch 93/100\n",
      "3259/3259 [==============================] - 0s 41us/step - loss: 0.4542 - acc: 0.7818 - val_loss: 0.4562 - val_acc: 0.7890\n",
      "Epoch 94/100\n",
      "3259/3259 [==============================] - 0s 40us/step - loss: 0.4537 - acc: 0.7824 - val_loss: 0.4585 - val_acc: 0.7840\n",
      "Epoch 95/100\n",
      "3259/3259 [==============================] - 0s 38us/step - loss: 0.4543 - acc: 0.7818 - val_loss: 0.4561 - val_acc: 0.7853\n",
      "Epoch 96/100\n",
      "3259/3259 [==============================] - 0s 36us/step - loss: 0.4537 - acc: 0.7821 - val_loss: 0.4562 - val_acc: 0.7902\n",
      "Epoch 97/100\n",
      "3259/3259 [==============================] - 0s 37us/step - loss: 0.4538 - acc: 0.7852 - val_loss: 0.4577 - val_acc: 0.7853\n",
      "Epoch 98/100\n",
      "3259/3259 [==============================] - 0s 58us/step - loss: 0.4535 - acc: 0.7803 - val_loss: 0.4565 - val_acc: 0.7865\n",
      "Epoch 99/100\n",
      "3259/3259 [==============================] - 0s 38us/step - loss: 0.4539 - acc: 0.7809 - val_loss: 0.4553 - val_acc: 0.7890\n",
      "Epoch 100/100\n",
      "3259/3259 [==============================] - 0s 40us/step - loss: 0.4537 - acc: 0.7852 - val_loss: 0.4560 - val_acc: 0.7865\n"
     ]
    }
   ],
   "source": [
    "Categorical_X = np.concatenate([new_data.values[:,4:6], new_data.values[:,10:12]], axis=1)\n",
    "Continuous_X = np.concatenate([new_data.values[:,3:4], new_data.values[:,6:10], new_data.values[:,12:13]], axis=1)\n",
    "Y = new_data.values[:,-1]\n",
    "\n",
    "labelencoder_X = LabelEncoder()\n",
    "Categorical_X[:, 1] = labelencoder_X.fit_transform(Categorical_X[:, 1])\n",
    "onehotencoder = OneHotEncoder()\n",
    "Geography_encoded = onehotencoder.fit_transform(Categorical_X[:,:1]).toarray()\n",
    "Categorical_X = np.concatenate([Geography_encoded, Categorical_X[:,1:]],axis=1)\n",
    "Categorical_X = np.concatenate([Categorical_X[:,0:2], Categorical_X[:,3:]],axis=1)\n",
    "\n",
    "scaler = StandardScaler()\n",
    "scaled_X  = scaler.fit_transform(Continuous_X)\n",
    "\n",
    "X = np.concatenate([Categorical_X, scaled_X], axis=1)\n",
    "X_train_b, X_test_b, y_train_b, y_test_b = train_test_split(X, Y, test_size = 0.2, random_state = 0)\n",
    "\n",
    "# Initialising the ANN\n",
    "classifier = keras.models.Sequential()\n",
    "\n",
    "# Adding the input layer and the first hidden layer\n",
    "classifier.add(Dense(units = 6, kernel_initializer = 'uniform', activation = 'relu', input_dim = 11))\n",
    "\n",
    "# Adding the second hidden layer\n",
    "classifier.add(Dense(units = 6, kernel_initializer = 'uniform', activation = 'relu'))\n",
    "\n",
    "# Adding the output layer\n",
    "classifier.add(Dense(units = 1, kernel_initializer = 'uniform', activation = 'sigmoid'))\n",
    "\n",
    "# Compiling the ANN\n",
    "classifier.compile(optimizer = 'adam', loss = 'binary_crossentropy', metrics = ['accuracy'])\n",
    "\n",
    "hist = classifier.fit(X_train_b, y_train_b, batch_size = 32, nb_epoch=100, shuffle=True,verbose=1, validation_data=(X_test_b, y_test_b))\n"
   ]
  },
  {
   "cell_type": "code",
   "execution_count": 25,
   "metadata": {
    "scrolled": true
   },
   "outputs": [
    {
     "data": {
      "image/png": "[encoded data removed]",
      "text/plain": [
       "<matplotlib.figure.Figure at 0x7ff29842aef0>"
      ]
     },
     "metadata": {},
     "output_type": "display_data"
    }
   ],
   "source": [
    "# Summarize history for accuracy\n",
    "plt.plot(hist.history['acc'])\n",
    "plt.plot(hist.history['val_acc'])\n",
    "plt.title('model accuracy')\n",
    "plt.ylabel('accuracy')\n",
    "plt.xlabel('epoch')\n",
    "plt.ylim(0,1)\n",
    "plt.legend(['train', 'test'], loc='upper left')\n",
    "plt.show()"
   ]
  },
  {
   "cell_type": "markdown",
   "metadata": {},
   "source": [
    "<font size=\"3\"> We get an accuracy of <b>79%</b>. It is less than before but let's look at the F1 score. </font>"
   ]
  },
  {
   "cell_type": "code",
   "execution_count": 26,
   "metadata": {
    "scrolled": false
   },
   "outputs": [
    {
     "name": "stdout",
     "output_type": "stream",
     "text": [
      "Test Set:\n",
      "              precision    recall  f1-score   support\n",
      "\n",
      "           0       0.77      0.79      0.78       395\n",
      "           1       0.80      0.78      0.79       420\n",
      "\n",
      "    accuracy                           0.79       815\n",
      "   macro avg       0.79      0.79      0.79       815\n",
      "weighted avg       0.79      0.79      0.79       815\n",
      "\n",
      "[[313  82]\n",
      " [ 92 328]]\n"
     ]
    },
    {
     "data": {
      "image/png": "[encoded data removed]",
      "text/plain": [
       "<matplotlib.figure.Figure at 0x7ff2c0085940>"
      ]
     },
     "metadata": {},
     "output_type": "display_data"
    }
   ],
   "source": [
    "y_predict = classifier.predict(X_test_b) >= 0.5\n",
    "\n",
    "report = classification_report(y_true=y_test_b.astype(int),y_pred= y_predict)\n",
    "matrix = confusion_matrix(y_true=y_test_b.astype(int),y_pred=y_predict)\n",
    "print(\"Test Set:\")\n",
    "print(report)\n",
    "print(matrix)\n",
    "plt.matshow(matrix)\n",
    "plt.colorbar()\n",
    "plt.xlabel(\"Real class\")\n",
    "plt.ylabel(\"Predicted class\")\n",
    "plt.show()"
   ]
  },
  {
   "cell_type": "markdown",
   "metadata": {},
   "source": [
    "\n",
    "<font size=\"3\"> The F1 score is <b>78%</b> ! Even though the accuracy is worse than before, the f1 score has highly improved after balancing the data, which means that this classifier is more reliable! </font>"
   ]
  },
  {
   "cell_type": "markdown",
   "metadata": {},
   "source": [
    "## Second approach : Using Supervised learning - SVM"
   ]
  },
  {
   "cell_type": "code",
   "execution_count": 27,
   "metadata": {},
   "outputs": [],
   "source": [
    "kernels_b = ['linear','rbf','poly','sigmoid']\n",
    "kernels = ['rbf', 'sigmoid', 'poly']\n",
    "max_gammas = {}"
   ]
  },
  {
   "cell_type": "code",
   "execution_count": 28,
   "metadata": {},
   "outputs": [],
   "source": [
    "\"\"\" Importations \"\"\"\n",
    "from sklearn import svm"
   ]
  },
  {
   "cell_type": "code",
   "execution_count": 29,
   "metadata": {},
   "outputs": [],
   "source": [
    "\"\"\" Functions \"\"\"\n",
    "def find_best_gamma():\n",
    "    \n",
    "    figure, axes = plt.subplots(1,2, figsize = (16, 4))\n",
    "    gamma_values = np.linspace(0.01,2,5)\n",
    "\n",
    "    score_values_test = []\n",
    "    score_values_train = []\n",
    "\n",
    "    for i in range(2) :\n",
    "        for value in gamma_values :\n",
    "            svm_classifier = svm.SVC(kernel = kernels[i], gamma = value )\n",
    "            svm_classifier.fit(X_train, y_train.astype(int))\n",
    "            score_values_test.append(svm_classifier.score(X_test, y_test.astype(int)))\n",
    "            score_values_train.append(svm_classifier.score(X_train, y_train.astype(int)))\n",
    "        ax = axes[i]\n",
    "\n",
    "        ax.set_ylabel('Accuracy')\n",
    "        ax.set_xlabel('Gamma') \n",
    "        ax.set_title('Using the kernel {}'.format(kernels[i]), fontdict = {'fontsize' :17})\n",
    "\n",
    "        ax.plot(gamma_values, score_values_test, c = 'r', label = 'Test set accuracy' )\n",
    "        ax.plot(gamma_values, score_values_train, c = 'b', label = 'Train set accuracy')\n",
    "        ax.legend()\n",
    "        ax.set_ybound(0,1)\n",
    "\n",
    "        max_score = max(score_values_test)\n",
    "        max_gamma = gamma_values[score_values_test.index(max_score)]\n",
    "        max_gammas[kernels[i]] = max_gamma\n",
    "        print('For {0} kernel, the best test accuracy is {1:.2f} % corresponding to Gamma equals {2:.4f}'.format\n",
    "              (kernels[i], max_score * 100 , max_gamma))\n",
    "\n",
    "        score_values_test  = []\n",
    "        score_values_train = []\n",
    "        \n",
    "# We used the exact same plot_boundaries function from the last TP\n",
    "def plot_boundaries(classifier,X,Y,h=0.1):\n",
    "    x0_min, x0_max = X[:, 0].min() - 1, X[:, 0].max() + 1\n",
    "    x1_min, x1_max = X[:, 1].min() - 1, X[:, 1].max() + 1\n",
    "    x0, x1 = np.meshgrid(np.arange(x0_min, x0_max,h),\n",
    "                         np.arange(x1_min, x1_max,h))\n",
    "    dataset = np.c_[x0.ravel(),x1.ravel()]\n",
    "    Z = classifier.predict(dataset)\n",
    "\n",
    "    # Put the result into a color plot\n",
    "    Z = Z.reshape(x0.shape)\n",
    "    plt.figure()\n",
    "    plt.pcolormesh(x0, x1, Z)\n",
    "\n",
    "    # Plot also the training points\n",
    "    plt.scatter(X[:, 0], X[:, 1], c=Y,\n",
    "                edgecolor='k', s=20)\n",
    "    plt.xlim(x0.min(), x0.max())\n",
    "    plt.ylim(x1.min(), x1.max())\n",
    "    "
   ]
  },
  {
   "cell_type": "markdown",
   "metadata": {},
   "source": [
    "<font size=\"3\"> Let's find the best value for gamma parameter. </font>"
   ]
  },
  {
   "cell_type": "code",
   "execution_count": 30,
   "metadata": {
    "scrolled": false
   },
   "outputs": [
    {
     "name": "stdout",
     "output_type": "stream",
     "text": [
      "For rbf kernel, the best test accuracy is 86.24 % corresponding to Gamma equals 0.5075\n",
      "For sigmoid kernel, the best test accuracy is 79.64 % corresponding to Gamma equals 0.0100\n"
     ]
    },
    {
     "data": {
      "image/png": "[encoded data removed]",
      "text/plain": [
       "<matplotlib.figure.Figure at 0x7ff2c015dcf8>"
      ]
     },
     "metadata": {},
     "output_type": "display_data"
    }
   ],
   "source": [
    "find_best_gamma()"
   ]
  },
  {
   "cell_type": "markdown",
   "metadata": {},
   "source": [
    "<font size=\"3\"> Let's build our classifier ! </font>"
   ]
  },
  {
   "cell_type": "code",
   "execution_count": 31,
   "metadata": {},
   "outputs": [
    {
     "name": "stdout",
     "output_type": "stream",
     "text": [
      "Test Set:\n",
      "              precision    recall  f1-score   support\n",
      "\n",
      "           0       0.88      0.96      0.92      1991\n",
      "           1       0.76      0.48      0.59       509\n",
      "\n",
      "    accuracy                           0.86      2500\n",
      "   macro avg       0.82      0.72      0.75      2500\n",
      "weighted avg       0.85      0.86      0.85      2500\n",
      "\n",
      "[[1912   79]\n",
      " [ 264  245]]\n"
     ]
    },
    {
     "data": {
      "image/png": "[encoded data removed]",
      "text/plain": [
       "<matplotlib.figure.Figure at 0x7ff298405588>"
      ]
     },
     "metadata": {},
     "output_type": "display_data"
    }
   ],
   "source": [
    "classifier = svm.SVC(kernel='rbf', gamma=0.5)\n",
    "classifier.fit(X_train, y_train.astype(int))\n",
    "report = classification_report(y_true=y_test.astype(int),y_pred= classifier.predict(X_test))\n",
    "matrix = confusion_matrix(y_true=y_test.astype(int),y_pred=classifier.predict(X_test))\n",
    "print(\"Test Set:\")\n",
    "print(report)\n",
    "print(matrix)\n",
    "plt.matshow(matrix)\n",
    "plt.colorbar()\n",
    "plt.xlabel(\"Real class\")\n",
    "plt.ylabel(\"Predicted class\")\n",
    "plt.show()"
   ]
  },
  {
   "cell_type": "markdown",
   "metadata": {},
   "source": [
    "## <font size=\"3\">  Balancing the data : </font>"
   ]
  },
  {
   "cell_type": "code",
   "execution_count": 32,
   "metadata": {},
   "outputs": [
    {
     "name": "stdout",
     "output_type": "stream",
     "text": [
      "Test Set:\n",
      "              precision    recall  f1-score   support\n",
      "\n",
      "           0       0.75      0.75      0.75       395\n",
      "           1       0.76      0.76      0.76       420\n",
      "\n",
      "    accuracy                           0.75       815\n",
      "   macro avg       0.75      0.75      0.75       815\n",
      "weighted avg       0.75      0.75      0.75       815\n",
      "\n",
      "[[295 100]\n",
      " [100 320]]\n"
     ]
    },
    {
     "data": {
      "image/png": "[encoded data removed]",
      "text/plain": [
       "<matplotlib.figure.Figure at 0x7ff2c001e080>"
      ]
     },
     "metadata": {},
     "output_type": "display_data"
    }
   ],
   "source": [
    "classifier = svm.SVC(kernel='rbf', gamma=0.5)\n",
    "classifier.fit(X_train_b, y_train_b.astype(int))\n",
    "report = classification_report(y_true=y_test_b.astype(int),y_pred= classifier.predict(X_test_b))\n",
    "matrix = confusion_matrix(y_true=y_test_b.astype(int),y_pred=classifier.predict(X_test_b))\n",
    "print(\"Test Set:\")\n",
    "print(report)\n",
    "print(matrix)\n",
    "plt.matshow(matrix)\n",
    "plt.colorbar()\n",
    "plt.xlabel(\"Real class\")\n",
    "plt.ylabel(\"Predicted class\")\n",
    "plt.show()"
   ]
  },
  {
   "cell_type": "markdown",
   "metadata": {},
   "source": [
    "## Conclusion"
   ]
  },
  {
   "cell_type": "markdown",
   "metadata": {},
   "source": [
    "<font size=\"3\"> The more balanced is the data, the more reliable is the classifier. By resampling the data set, we can build a much more efficient classifier.</font>"
   ]
  }
 ],
 "metadata": {
  "kernelspec": {
   "display_name": "Python 3",
   "language": "python",
   "name": "python3"
  },
  "language_info": {
   "codemirror_mode": {
    "name": "ipython",
    "version": 3
   },
   "file_extension": ".py",
   "mimetype": "text/x-python",
   "name": "python",
   "nbconvert_exporter": "python",
   "pygments_lexer": "ipython3",
   "version": "3.7.6"
  }
 },
 "nbformat": 4,
 "nbformat_minor": 2
}
